{
  "nbformat": 4,
  "nbformat_minor": 0,
  "metadata": {
    "colab": {
      "provenance": [],
      "authorship_tag": "ABX9TyMuFBGUZzJ9+mergIyYmQx4",
      "include_colab_link": true
    },
    "kernelspec": {
      "name": "python3",
      "display_name": "Python 3"
    },
    "language_info": {
      "name": "python"
    }
  },
  "cells": [
    {
      "cell_type": "markdown",
      "metadata": {
        "id": "view-in-github",
        "colab_type": "text"
      },
      "source": [
        "<a href=\"https://colab.research.google.com/github/mialee2508/python/blob/main/MASD_ACT08.ipynb\" target=\"_parent\"><img src=\"https://colab.research.google.com/assets/colab-badge.svg\" alt=\"Open In Colab\"/></a>"
      ]
    },
    {
      "cell_type": "markdown",
      "source": [
        "**Actividad 8**\n",
        "\n",
        "**Fecha: 11 de Octubre 2023**\n",
        "\n",
        "**Michelle A. Sanchez Dominguez**\n",
        "\n",
        "**Libreria Random**"
      ],
      "metadata": {
        "id": "yG7XL7SzPuMz"
      }
    },
    {
      "cell_type": "markdown",
      "source": [
        "1.- Programa en python que genere un número entre el 1 y 10 (no visible)  preguntarle al usuario que número cree que generó la computadora, el usuario tendrá 3 oportunidades de adivinar.\n",
        "\n",
        "Decir si adivino o si falló en sus 3 intentos."
      ],
      "metadata": {
        "id": "TiLMk5qhQLL5"
      }
    },
    {
      "cell_type": "code",
      "source": [
        "import random\n",
        "from IPython.display import clear_output\n",
        "import time\n"
      ],
      "metadata": {
        "id": "3DU4miFvr32W"
      },
      "execution_count": 2,
      "outputs": []
    },
    {
      "cell_type": "code",
      "source": [
        "def vali_num(msj1,msj2):\n",
        "    salida = 1\n",
        "    while(salida == 1):\n",
        "            try:\n",
        "                print(msj1)\n",
        "                n = input(f\"{msj2}\")\n",
        "                n_entero = int(n)\n",
        "                if int(n):\n",
        "                    return n_entero\n",
        "            except ValueError:\n",
        "                print(\"favor de ingresar un numero\")\n",
        "                print(\"intenta de nuevo\")\n",
        "            else:\n",
        "                salida = 0\n"
      ],
      "metadata": {
        "id": "E7XRLgV-sDsN"
      },
      "execution_count": 3,
      "outputs": []
    },
    {
      "cell_type": "code",
      "source": [
        "def primer_juego():\n",
        "  num = random.randint(1, 10)\n",
        "  correcto = 1\n",
        "  a = 2\n",
        "  while(a>=0):\n",
        "    msj1 = \"adivina el numero\"\n",
        "    msj2 = \"ingresa un numero\"\n",
        "    usuario = vali_num(msj1, msj2)\n",
        "    if(usuario == num):\n",
        "      print(f\"es correcto! el numero es {correcto}\")\n",
        "      return 1\n",
        "      break\n",
        "    if a!= 0:\n",
        "      print(f\"te quedan {a} intentos mas\")\n",
        "    else:\n",
        "      print(f\"ya no tienes mas intentos\")\n",
        "      clear_output(wait=True)\n",
        "      return 0\n",
        "\n",
        "    correcto += 1\n",
        "    a -= 2\n"
      ],
      "metadata": {
        "id": "S2EPf0Nmtj9Y"
      },
      "execution_count": 4,
      "outputs": []
    },
    {
      "cell_type": "code",
      "source": [
        "decision = 1\n",
        "ganado = 0\n",
        "perdido = 0\n",
        "while(decision == 1):\n",
        "    juego = primer_juego()\n",
        "    if juego == 1:\n",
        "        ganado += 1\n",
        "    if juego == 0:\n",
        "        perdido += 1\n",
        "    clear_output(wait=True)\n",
        "    time.sleep(5)\n",
        "    print(\"INGRESA:\")\n",
        "    print(\"1 - SI DESEAS CONTINUAR \")\n",
        "    print(\"CUALQUIER NUMERO - SI DESEAS TERMINAR \")\n",
        "    des = \"Deseas seguir jugando?\"\n",
        "    des2 = \"Ingresa tu decision : \"\n",
        "    decision = vali_num(des,des2)\n",
        "    clear_output(wait=True)\n",
        "    time.sleep(2)\n",
        "\n",
        "print(f\"Ganaste {ganado}\")\n",
        "print(f\"Perdiste {perdido}\")"
      ],
      "metadata": {
        "id": "9rs7ANTNXtFS",
        "colab": {
          "base_uri": "https://localhost:8080/",
          "height": 0
        },
        "outputId": "066bcc71-06be-4613-82dd-d02933cc96e1"
      },
      "execution_count": 17,
      "outputs": [
        {
          "output_type": "stream",
          "name": "stdout",
          "text": [
            "Ganaste 0\n",
            "Perdiste 1\n"
          ]
        }
      ]
    },
    {
      "cell_type": "markdown",
      "source": [
        "2.- El juego Busca Número muestra una lista de 10 numeros, sin mostrar su contenido,\n",
        "\n",
        "Al usuario se le muestra un número que se generó aleatoriamente y el usuario tendrá 3 intentos de adivinar en qué índice del arreglo se encuentra.\n",
        "\n",
        "El usuario recibirá un mensaje que diga GANASTE, PERDISTE, TIENES UN NUEVO INTENTO\n",
        "\n",
        "El usuario podrá jugar cuantas veces lo desee.\n",
        "\n"
      ],
      "metadata": {
        "id": "g4ABbSexQMAg"
      }
    },
    {
      "cell_type": "markdown",
      "source": [
        "**VERSION A:**\n",
        "Usar ciclos para validar los repetidos, y sólo random para generar los números dentro del rango"
      ],
      "metadata": {
        "id": "BLwZ31cFQ-Qy"
      }
    },
    {
      "cell_type": "code",
      "source": [
        "def vA():\n",
        "    lista = []\n",
        "    while(len(lista) < 10):\n",
        "        num = random.randint(1,10)\n",
        "        if num not in lista:\n",
        "            lista.append(num)\n",
        "    for i in range(len(lista)):\n",
        "        print(\"[x]\",end='')\n",
        "    alea = random.randint(1,10)\n",
        "    print()\n",
        "    print(lista[alea])\n",
        "\n",
        "    buena = 1\n",
        "    fallo = 2\n",
        "    while(fallo>=0):\n",
        "        msj1 = \"En que indice crees que este el numero? \"\n",
        "        msj2 = \"Ingresa tu respuesta: \"\n",
        "        usuario = vali_num(msj1, msj2)\n",
        "        if(usuario == num):\n",
        "            print(f\"Has acertado! al intento numero {buena}\")\n",
        "            return 1\n",
        "            break\n",
        "        else:\n",
        "            if fallo!= 0:\n",
        "                print(f\"solo te quedan {fallo} intentos\")\n",
        "            else:\n",
        "                print(f\"ya no tienes mas intentos\")\n",
        "                clear_output(wait=True)\n",
        "                return 0\n",
        "        fallo -= 1\n",
        "        buena += 1"
      ],
      "metadata": {
        "id": "aHQOjEL10Acg"
      },
      "execution_count": 7,
      "outputs": []
    },
    {
      "cell_type": "code",
      "source": [
        "res = 1\n",
        "gano = 0\n",
        "perdio = 0\n",
        "while(res == 1):\n",
        "    jue = vA()\n",
        "    if jue == 1:\n",
        "        gano += 1\n",
        "    if jue == 0:\n",
        "        perdio += 1\n",
        "    clear_output(wait=True)\n",
        "    time.sleep(2)\n",
        "    print(\"INGRESA:\")\n",
        "    print(\"1 - SI DESEAS CONTINUAR \")\n",
        "    print(\"CUALQUIER NUMERO - SI DESEAS TERMINAR \")\n",
        "    d = \"Deseas seguir jugando?\"\n",
        "    d2 = \"Ingresa tu decision : \"\n",
        "    res = vali_num(d,d2)\n",
        "    clear_output(wait=True)\n",
        "    time.sleep(2)\n",
        "\n",
        "print(f\"Ganaste {gano}\")\n",
        "print(f\"Perdiste {perdio}\")"
      ],
      "metadata": {
        "id": "eJeDzBHU1jp-",
        "colab": {
          "base_uri": "https://localhost:8080/",
          "height": 0
        },
        "outputId": "adfb87b1-0b46-4c7c-f8bc-04aff36871ce"
      },
      "execution_count": 10,
      "outputs": [
        {
          "output_type": "stream",
          "name": "stdout",
          "text": [
            "Ganaste 0\n",
            "Perdiste 1\n"
          ]
        }
      ]
    },
    {
      "cell_type": "markdown",
      "source": [
        "**VERSION B:**\n",
        "Usa funciones de la librería Random para llenar la lista con los número sin repetir"
      ],
      "metadata": {
        "id": "12QCVknhQ-na"
      }
    },
    {
      "cell_type": "code",
      "source": [
        "def vB():\n",
        "    lista = []\n",
        "    lista = range(1,11)\n",
        "    lista = random.sample(lista,10)\n",
        "    num = random.randint(1,10)\n",
        "\n",
        "    for i in range(len(lista)):\n",
        "        print(\"[x]\",end='')\n",
        "    alea = random.randint(1,10)\n",
        "    print()\n",
        "    print(lista[alea])\n",
        "\n",
        "    buena = 1\n",
        "    fallo = 2\n",
        "    while(fallo>=0):\n",
        "        msj1 = \"En que indice crees que este el numero? \"\n",
        "        msj2 = \"Ingrese la respuesta: \"\n",
        "        usuario = vali_num(msj1,msj2)\n",
        "        if(usuario == num):\n",
        "            print(f\"Has acertado! al intento numero {buena}\")\n",
        "            return 1\n",
        "            break\n",
        "        else:\n",
        "            if fallo!= 0:\n",
        "                print(f\"Te quedan {fallo} intento mas......\")\n",
        "            else:\n",
        "                print(f\"Sin intentos disponibles, suerte a la proxima......\")\n",
        "                clear_output(wait=True)\n",
        "                return 0\n",
        "        fallo -= 1\n",
        "        buena += 1"
      ],
      "metadata": {
        "id": "i2Ren3UsYOn8"
      },
      "execution_count": 11,
      "outputs": []
    },
    {
      "cell_type": "code",
      "source": [
        "resp = 1\n",
        "win = 0\n",
        "fail = 0\n",
        "while(resp == 1):\n",
        "    jue = vB()\n",
        "    if jue == 1:\n",
        "        win += 1\n",
        "    if jue == 0:\n",
        "        fail += 1\n",
        "    clear_output(wait=True)\n",
        "    time.sleep(2)\n",
        "    print(\"INGRESA:\")\n",
        "    print(\"1 - SI DESEAS CONTINUAR \")\n",
        "    print(\"CUALQUIER NUMERO - SI DESEAS TERMINAR \")\n",
        "    mensaje1 = \"Deseas seguir jugando?\"\n",
        "    mensaje2 = \"Ingresa tu decision : \"\n",
        "    resp = vali_num(mensaje1,mensaje2)\n",
        "    clear_output(wait=True)\n",
        "    time.sleep(2)\n",
        "\n",
        "print(f\"Ganaste {win}\")\n",
        "print(f\"Perdiste {fail}\")"
      ],
      "metadata": {
        "colab": {
          "base_uri": "https://localhost:8080/",
          "height": 0
        },
        "id": "hgx3v_ANWBoT",
        "outputId": "8a8b5707-e455-4efe-8cf7-b9f71cd33866"
      },
      "execution_count": 13,
      "outputs": [
        {
          "output_type": "stream",
          "name": "stdout",
          "text": [
            "Ganaste 0\n",
            "Perdiste 1\n"
          ]
        }
      ]
    },
    {
      "cell_type": "markdown",
      "source": [
        "**VERSION C:**\n",
        "Usa funciones de la librería Random para llenar la lista con los número sin repetir"
      ],
      "metadata": {
        "id": "vFeir7HKRJJ0"
      }
    },
    {
      "cell_type": "code",
      "source": [
        "def juego3C():\n",
        "    lista = [1,2,3,4,5,6,7,8,9,1]\n",
        "    random.shuffle(lista)\n",
        "    num = random.randint(1,10)\n",
        "\n",
        "    for i in range(len(lista)):\n",
        "        print(\"[x]\",end='')\n",
        "    alea = random.randint(1,10)\n",
        "    print()\n",
        "    print(lista[alea])\n",
        "\n",
        "    buena = 1\n",
        "    fallo = 2\n",
        "    while(fallo>=0):\n",
        "        msj1 = \"En que indice crees que este el numero? \"\n",
        "        msj2 = \"Ingrese la respuesta: \"\n",
        "        usuario = vali_num(msj1,msj2)\n",
        "        if(usuario == num):\n",
        "            print(f\"Has acertado! al intento numero {buena}\")\n",
        "            return 1\n",
        "            break\n",
        "        else:\n",
        "            if fallo!= 0:\n",
        "                print(f\"Te quedan {fallo} intento mas......\")\n",
        "            else:\n",
        "                print(f\"Sin intentos disponibles, suerte a la proxima......\")\n",
        "                clear_output(wait=True)\n",
        "                return 0\n",
        "        fallo -= 1\n",
        "        buena += 1"
      ],
      "metadata": {
        "id": "BKAgyC-xV-YY"
      },
      "execution_count": 14,
      "outputs": []
    },
    {
      "cell_type": "code",
      "source": [
        "resp = 1\n",
        "won = 0\n",
        "looser = 0\n",
        "while(resp == 1):\n",
        "    jue = juego3C()\n",
        "    if jue == 1:\n",
        "        won += 1\n",
        "    if jue == 0:\n",
        "        looser += 1\n",
        "    clear_output(wait=True)\n",
        "    time.sleep(2)\n",
        "    print(\"INGRESA:\")\n",
        "    print(\"1 - SI DESEAS CONTINUAR \")\n",
        "    print(\"CUALQUIER NUMERO - SI DESEAS TERMINAR \")\n",
        "    mensaje1 = \"Deseas seguir jugando?\"\n",
        "    mensaje2 = \"Ingresa tu decision : \"\n",
        "    resp = vali_num(mensaje1,mensaje2)\n",
        "    clear_output(wait=True)\n",
        "    time.sleep(2)\n",
        "\n",
        "print(f\"Ganaste {won}\")\n",
        "print(f\"Perdiste {looser}\")"
      ],
      "metadata": {
        "colab": {
          "base_uri": "https://localhost:8080/",
          "height": 0
        },
        "id": "rlkm2wbGWKG1",
        "outputId": "20ce3e9a-a4a2-4bfd-8677-945dd38a64e4"
      },
      "execution_count": 15,
      "outputs": [
        {
          "output_type": "stream",
          "name": "stdout",
          "text": [
            "Ganaste 0\n",
            "Perdiste 1\n"
          ]
        }
      ]
    }
  ]
}