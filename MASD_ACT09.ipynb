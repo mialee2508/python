{
  "nbformat": 4,
  "nbformat_minor": 0,
  "metadata": {
    "colab": {
      "provenance": [],
      "authorship_tag": "ABX9TyOgvE+5UiKy2+zZt+Jo/OFV",
      "include_colab_link": true
    },
    "kernelspec": {
      "name": "python3",
      "display_name": "Python 3"
    },
    "language_info": {
      "name": "python"
    }
  },
  "cells": [
    {
      "cell_type": "markdown",
      "metadata": {
        "id": "view-in-github",
        "colab_type": "text"
      },
      "source": [
        "<a href=\"https://colab.research.google.com/github/mialee2508/python/blob/main/MASD_ACT09.ipynb\" target=\"_parent\"><img src=\"https://colab.research.google.com/assets/colab-badge.svg\" alt=\"Open In Colab\"/></a>"
      ]
    },
    {
      "cell_type": "markdown",
      "source": [
        "**Actividad 9**\n",
        "\n",
        "**Fecha: 19 de Octubre 2023**\n",
        "\n",
        "**Michelle A. Sanchez Dominguez**\n",
        "\n",
        "**Diccionario**"
      ],
      "metadata": {
        "id": "L92F5tsd4dGr"
      }
    },
    {
      "cell_type": "markdown",
      "source": [
        "Realiza un programa en python que utilice el siguiente menu:\n",
        "\n",
        " MENU\n",
        "\n",
        " 1.- Crear Diccionario\n",
        "\n",
        " 2.- Imprimir Diccionario\n",
        "\n",
        " 0.- Salir\n",
        "\n",
        "\n",
        "CREAR DICCIIONARIO: funcion que retorne un diccionario con los datos de basicos de un alumno, donde se pide {id,nombre (1 O 2) , appaterno,apmaterno, edad,sexo}, El diccionario se debe generar automaticmanete a partir de listas.\n",
        "\n",
        "\n",
        "IMPRIMIR DICCIONARIO:  Funcion que reciba como parametro el diccionario, y le de una salida mostrando la informacion en forma de registro que se genero con el diccionario\n",
        "\n"
      ],
      "metadata": {
        "id": "PdITYYo14i3R"
      }
    },
    {
      "cell_type": "code",
      "source": [
        "def crear_dict():\n",
        "    alumno = {}\n",
        "    alumno[\"id\"] = input(\"Ingresar id: \")\n",
        "    alumno[\"nombre\"] = input(\"Ingresar nombre: \")\n",
        "    alumno[\"appaterno\"] = input(\"Ingresar apellido paterno: \")\n",
        "    alumno[\"apmaterno\"] = input(\"Ingresar el apellido materno: \")\n",
        "    alumno[\"edad\"] = input(\"Ingresar edad: \")\n",
        "    alumno[\"sexo\"] = input(\"Ingresar sexo: \")\n",
        "    return alumno\n"
      ],
      "metadata": {
        "id": "UtJ9f54bGv5u"
      },
      "execution_count": 8,
      "outputs": []
    },
    {
      "cell_type": "code",
      "source": [
        "def imprimir_dict(diccionario):\n",
        "  print(\"diccionario:\")\n",
        "  for key, value in diccionario.items():\n",
        "    print(f\"{key}: {value}\")"
      ],
      "metadata": {
        "id": "nwHNQroaHK6B"
      },
      "execution_count": 9,
      "outputs": []
    },
    {
      "cell_type": "code",
      "source": [
        "alumno = {}\n",
        "\n",
        "while True:\n",
        "    print(\"\\nMENU\")\n",
        "    print(\"1.- crear diccionario\")\n",
        "    print(\"2.- imprimir diccionario\")\n",
        "    print(\"0.- salir\")\n",
        "\n",
        "    opcion = input(\"seleccione una opción: \")\n",
        "\n",
        "    if opcion == \"1\":\n",
        "        alumno = crear_dict()\n",
        "        print(\"diccionario creado.\")\n",
        "    elif opcion == \"2\":\n",
        "        if alumno:\n",
        "            imprimir_dict(alumno)\n",
        "        else:\n",
        "            print(\"eliga la opcion 1 para crear un diccionario\")\n",
        "    elif opcion == \"0\":\n",
        "        print(\"bye bye\")\n",
        "        break\n",
        "    else:\n",
        "        print(\"opcion invalida\")"
      ],
      "metadata": {
        "id": "KIj9c3AiHVDg",
        "colab": {
          "base_uri": "https://localhost:8080/"
        },
        "outputId": "f6fa0a6d-657b-4f3b-bcf9-c05be2e3de4a"
      },
      "execution_count": 10,
      "outputs": [
        {
          "output_type": "stream",
          "name": "stdout",
          "text": [
            "\n",
            "MENU\n",
            "1.- crear diccionario\n",
            "2.- imprimir diccionario\n",
            "0.- salir\n",
            "seleccione una opción: 0\n",
            "bye bye\n"
          ]
        }
      ]
    }
  ]
}