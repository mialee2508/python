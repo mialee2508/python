{
  "nbformat": 4,
  "nbformat_minor": 0,
  "metadata": {
    "colab": {
      "provenance": [],
      "authorship_tag": "ABX9TyNCxrTLg9NZgrBs+RreuVqM",
      "include_colab_link": true
    },
    "kernelspec": {
      "name": "python3",
      "display_name": "Python 3"
    },
    "language_info": {
      "name": "python"
    }
  },
  "cells": [
    {
      "cell_type": "markdown",
      "metadata": {
        "id": "view-in-github",
        "colab_type": "text"
      },
      "source": [
        "<a href=\"https://colab.research.google.com/github/mialee2508/python/blob/main/MASD_ACT6.ipynb\" target=\"_parent\"><img src=\"https://colab.research.google.com/assets/colab-badge.svg\" alt=\"Open In Colab\"/></a>"
      ]
    },
    {
      "cell_type": "markdown",
      "source": [
        "**Actividad 6**\n",
        "\n",
        "**Fecha: 26 de Septiembre 2023**\n",
        "\n",
        "**Michelle A. Sanchez Dominguez**\n",
        "\n",
        "**ciclos y funciones**"
      ],
      "metadata": {
        "id": "5gtJ5L4wK5w8"
      }
    },
    {
      "cell_type": "code",
      "source": [
        "import random\n",
        "from IPython.display import clear_output"
      ],
      "metadata": {
        "id": "DZiuwId5RM2e"
      },
      "execution_count": 2,
      "outputs": []
    },
    {
      "cell_type": "code",
      "source": [
        "def validacion_de_num(ri,rf,msge=\" DAME UN NUMERO ENTRE \",msgError1=\"ERROR EN RANGO\",msgError2=\"ERROR DE CAPTURA\"):\n",
        "  while True:\n",
        "    try:\n",
        "      num = int(input(f\"{msge} {ri} , {rf} : \"))\n",
        "    except:\n",
        "      print (msgError2)\n",
        "      continue\n",
        "    if num < ri or num > rf:\n",
        "      print (msgError1)\n",
        "      continue\n",
        "    return num"
      ],
      "metadata": {
        "id": "Q9BmzvZsLJmP"
      },
      "execution_count": 3,
      "outputs": []
    },
    {
      "cell_type": "markdown",
      "source": [
        "1.- FUNCIÓN QUE LEA n CANTIDAD DE NÚMEROS HASTA QUE EL USUARIO LO DESEE, DESPLEGAR LA SUMA DE LOS NÚMEROS, MEDIA Y VALOR DE LOS NÚMEROS MAYORES Y MENORES.\n",
        "\n"
      ],
      "metadata": {
        "id": "7pjNjUt_LPg-"
      }
    },
    {
      "cell_type": "code",
      "source": [
        "def func1():\n",
        "    print(\"PRESIONA\")\n",
        "    print(\"1- Continuar\")\n",
        "    print(\"0- Salir\")\n",
        "    suma=0\n",
        "    fuera = 1\n",
        "    i=0\n",
        "    try:\n",
        "        while(fuera):\n",
        "            num = int(input(\"Ingresa el numero: \"))\n",
        "            suma += num\n",
        "            i+=1\n",
        "            res = int(input(\"Quieres terminar? \"))\n",
        "            if(res == 0):\n",
        "                fuera = 0\n",
        "    except:\n",
        "        print(\"fallo\")\n",
        "    else:\n",
        "        print(f\"La suma es: {suma}\")\n",
        "        print(f\"La media es: {suma/i}\")"
      ],
      "metadata": {
        "id": "gNrsaSLTL31L"
      },
      "execution_count": 4,
      "outputs": []
    },
    {
      "cell_type": "markdown",
      "source": [
        "2.- FUNCIÓN QUE GENERE 15 NÚMEROS IMPARES ENTRE 10 Y 60 o MÁXIMO DE 25 NÚMEROS. DESPLEGAR LA MEDIA DE LOS PARES Y MEDIA DE IMPARES."
      ],
      "metadata": {
        "id": "hfWafLAAMJm5"
      }
    },
    {
      "cell_type": "code",
      "source": [
        "def func2():\n",
        "    suma_pares = 0\n",
        "    suma_impares = 0\n",
        "    par = 0\n",
        "    impar = 0\n",
        "    try:\n",
        "        for i in range(25):\n",
        "            num = random.randint(10,60)\n",
        "            if num%2 == 0:\n",
        "                suma_pares += num\n",
        "                par += 1\n",
        "            else:\n",
        "                suma_impares += num\n",
        "                impar += 1\n",
        "                if impar == 15:\n",
        "                    print(\"Se acompletaron los 15 impares\")\n",
        "                    break\n",
        "        else:\n",
        "            print(\"Se acompleto los 25 numeros maximos\")\n",
        "    except:\n",
        "        print(\"error\")\n",
        "    else:\n",
        "        print(f\"media de impares es: {suma_impares/15}\")\n",
        "        print(f\"media de impares es: {suma_pares/par}\")"
      ],
      "metadata": {
        "id": "Lc2JBBUUMNSW"
      },
      "execution_count": 5,
      "outputs": []
    },
    {
      "cell_type": "markdown",
      "source": [
        "3.- FUNCIÓN QUE SIRVA PARA LEER UN RANGO DADO POR EL USUARIO. REPETIR ESTA ACCIÓN HASTA QUE EL USUARIO LO DESEE, DESPLEGAR CANTIDAD DE NUMEROS Y PROMEDIO DE LOS NUMEROS.."
      ],
      "metadata": {
        "id": "J2bPD6-YMcEe"
      }
    },
    {
      "cell_type": "code",
      "source": [
        "def func3():\n",
        "    try:\n",
        "        i=0\n",
        "        suma=0\n",
        "        while(1):\n",
        "            try:\n",
        "                ri = int(input(\"Ingrese el rango inicial \"))\n",
        "                rf = int(input(\"Ingrese el rango final\"))\n",
        "                validacion_de_num(ri,rf)\n",
        "\n",
        "            except ValueError as e:\n",
        "                print(\"Error:\",e)\n",
        "            else:\n",
        "                n = int(input(\"Ingresa el numero a guardar: \"))\n",
        "                suma += n\n",
        "                if n>=ri and n<=rf:\n",
        "                    print(\"El numero dado esta en el rango\")\n",
        "                else:\n",
        "                    print(\"El numero no esta en el rango\")\n",
        "                print(\"PRESIONA\")\n",
        "                print(\"1- Continuar\")\n",
        "                print(\"0- Salir\")\n",
        "                res = int(input(\"Deseas continuar? \"))\n",
        "                i+=1\n",
        "    except:\n",
        "        print(\"Ingresaste algo mal\")\n",
        "    else:\n",
        "        print(f\"El promedio es de{suma / i}\")"
      ],
      "metadata": {
        "id": "1-ZW-psyMfpR"
      },
      "execution_count": 6,
      "outputs": []
    },
    {
      "cell_type": "markdown",
      "source": [
        "4.- FUNCIÓN QUE RECIBA COMO PARÁMETRO LOS VALORES PARA EL ÁREA DE UN TRIANGULO Y RETORNE SU RESULTADO"
      ],
      "metadata": {
        "id": "eek6OuqOMj1B"
      }
    },
    {
      "cell_type": "code",
      "source": [
        "def area(base,altura):\n",
        "    try:\n",
        "        if base == 0:\n",
        "            raise ValueError(\"No puede ser cero\")\n",
        "        if altura == 0:\n",
        "            raise ValueError(\"No puede ser cero\")\n",
        "    except ValueError as e:\n",
        "        print(\"Error\",e)\n",
        "    else:\n",
        "        area = (base*altura)/2\n",
        "        return area"
      ],
      "metadata": {
        "id": "8O_eqBEcMm3Z"
      },
      "execution_count": 7,
      "outputs": []
    },
    {
      "cell_type": "markdown",
      "source": [
        "5.- FUNCION QUE SIRVA QUE SIRVA PARA EVALUAR EL PROMEDIO DE 3 CALIFICACIONES DADAS, SI EL USUARIO SU CALIFICACION ES APROBADA MANDAR MSGE QUE DIGA \"felicidades avanzas al siguiente semestre\", SI LA CALIFICACIONE ESTA REPROBADA EL MENSAGE \"repetir materia \" EL ALUMNO TENDRA UN MAXIMO DE CURSAR 3 VESES LA MATERIA, SI LA REPRUEBA 3 VESES MANDAR MSGE \" lastima estas fuera de la UABC\""
      ],
      "metadata": {
        "id": "JsKLctV_Mp0E"
      }
    },
    {
      "cell_type": "code",
      "source": [
        "def func5():\n",
        "    j=0\n",
        "    while(j<=3):\n",
        "        try:\n",
        "            prom = 0\n",
        "            for i in range(1,4):\n",
        "                cali = float(input(f\"Ingresa la calificacion {i}: \"))\n",
        "                prom +=cali\n",
        "                if cali < 0 or cali > 100:\n",
        "                    raise ValueError(\"La calificacion no puede ser menos 0 o mas de 100\")\n",
        "\n",
        "        except ValueError as e:\n",
        "            print(\"Error: \",e)\n",
        "            print(\"Intentemos de Nuevo\")\n",
        "            continue\n",
        "        except:\n",
        "            print(\"Error no pueden ser letras\")\n",
        "            print(\"Intentemos de Nuevo\")\n",
        "            continue\n",
        "\n",
        "        else:\n",
        "            prom = prom / 3\n",
        "            if prom >= 60:\n",
        "                print(\"FELICIADAES SIGUES JUGANDO EL PROXIMO SEMESTRE\")\n",
        "                j=4\n",
        "            else:\n",
        "                print(f\"Te quedan {i}\")\n",
        "                j+=1"
      ],
      "metadata": {
        "id": "oTCqW6LUadYX"
      },
      "execution_count": 8,
      "outputs": []
    },
    {
      "cell_type": "markdown",
      "source": [
        "**MENU**"
      ],
      "metadata": {
        "id": "TcrLfN0yM1_8"
      }
    },
    {
      "cell_type": "code",
      "source": [
        "def menu():\n",
        "    print(\"MENU\")\n",
        "    print(\"1. Funcion para desplegar suma, media y valor de los numeros mayores y menores.\")\n",
        "    print(\"2. Funcion que desplegue la media de los pares e impares.\")\n",
        "    print(\"3. Funcion para desplegar la cantidad de numeros y promedio de los numeros.\")\n",
        "    print(\"4. Funcion para calcular el area de un triangulo y retornar su resultado.\")\n",
        "    print(\"5. Funcion para evaluar el promedio de 3 calificaciones.\", end=' ')\n",
        "    print(\"SI EL USUARIO SU CALIFICACION ES APROBADA MANDAR MSGE QUE DIGA \\\"felicidades avanzas al siguiente semestre\",end=' ')\n",
        "    print(\"SI LA CALIFICACIONE ESTA REPROBADA EL MENSAJE \\\"repetir materia \\\" EL ALUMNO TENDRA UN MAXIMO DE CURSAR 3 VECES LA MATERIA\")\n",
        "    print(\"Que funcion quieres leer? \")\n",
        "    res = validacion_de_num(1,6)\n",
        "\n",
        "    if res == 1:\n",
        "        clear_output()\n",
        "        func1()\n",
        "    elif res == 2:\n",
        "        clear_output()\n",
        "        func2()\n",
        "    elif res == 3:\n",
        "        clear_output()\n",
        "        func3()\n",
        "    elif res == 4:\n",
        "        clear_output()\n",
        "        base = float(input(\"Ingrese la base del triangulo\"))\n",
        "        altura = float(input(\"Ingrese la altura del triangulo\"))\n",
        "        area()\n",
        "    elif res == 5:\n",
        "        clear_output()\n",
        "        func5()"
      ],
      "metadata": {
        "id": "qFt2o8tnM5LZ"
      },
      "execution_count": 9,
      "outputs": []
    },
    {
      "cell_type": "code",
      "source": [
        "menu()"
      ],
      "metadata": {
        "id": "-KyVQDTiafvV",
        "colab": {
          "base_uri": "https://localhost:8080/"
        },
        "outputId": "0bf49f03-50fb-47f1-815d-2b0f07710a73"
      },
      "execution_count": null,
      "outputs": [
        {
          "output_type": "stream",
          "name": "stdout",
          "text": [
            "MENU\n",
            "1. Funcion para desplegar suma, media y valor de los numeros mayores y menores.\n",
            "2. Funcion que desplegue la media de los pares e impares.\n",
            "3. Funcion para desplegar la cantidad de numeros y promedio de los numeros.\n",
            "4. Funcion para calcular el area de un triangulo y retornar su resultado.\n",
            "5. Funcion para evaluar el promedio de 3 calificaciones. SI EL USUARIO SU CALIFICACION ES APROBADA MANDAR MSGE QUE DIGA \"felicidades avanzas al siguiente semestre SI LA CALIFICACIONE ESTA REPROBADA EL MENSAJE \"repetir materia \" EL ALUMNO TENDRA UN MAXIMO DE CURSAR 3 VECES LA MATERIA\n",
            "Que funcion quieres leer? \n"
          ]
        }
      ]
    },
    {
      "cell_type": "markdown",
      "source": [
        "**main code**"
      ],
      "metadata": {
        "id": "4q9b0-5-QYXj"
      }
    },
    {
      "cell_type": "markdown",
      "source": [
        "PRESIONA:\n",
        "1. Continuar\n",
        "0. SALIR\n"
      ],
      "metadata": {
        "id": "B6ug_KXpR9-v"
      }
    }
  ]
}