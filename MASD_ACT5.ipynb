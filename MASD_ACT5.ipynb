{
  "nbformat": 4,
  "nbformat_minor": 0,
  "metadata": {
    "colab": {
      "provenance": [],
      "authorship_tag": "ABX9TyNWo8uATWq7+9KGVA10ltXl",
      "include_colab_link": true
    },
    "kernelspec": {
      "name": "python3",
      "display_name": "Python 3"
    },
    "language_info": {
      "name": "python"
    }
  },
  "cells": [
    {
      "cell_type": "markdown",
      "metadata": {
        "id": "view-in-github",
        "colab_type": "text"
      },
      "source": [
        "<a href=\"https://colab.research.google.com/github/mialee2508/python/blob/main/MASD_ACT5.ipynb\" target=\"_parent\"><img src=\"https://colab.research.google.com/assets/colab-badge.svg\" alt=\"Open In Colab\"/></a>"
      ]
    },
    {
      "cell_type": "markdown",
      "source": [
        "**Actividad 5**\n",
        "\n",
        "**Fecha: 12 de Septiembre 2023**\n",
        "\n",
        "**Michelle A. Sanchez Dominguez**\n",
        "\n",
        "**Realiza los ejercicios en COLABORATORY, (USAR for :, random, try )**\n",
        "\n"
      ],
      "metadata": {
        "id": "hSns8J6KEj3G"
      }
    },
    {
      "cell_type": "markdown",
      "source": [
        "1.- Programa en Python que genere 40 números aleatorios entre el 0 y 200, desplegar los números y la leyenda de cada número si es par o impar , la cantidad de los números pares e impares así como la suma de los números pares o impares."
      ],
      "metadata": {
        "id": "zXy4S1uSFHzP"
      }
    },
    {
      "cell_type": "code",
      "source": [
        "import random\n",
        "\n",
        "numeros_pares=0\n",
        "numeros_impares=0\n",
        "suma_pares=0\n",
        "suma_impares=0\n",
        "\n",
        "for _ in range(40):\n",
        "  try:\n",
        "    numero = random.randint(0,200)\n",
        "    print(f\"numero generado: {numero}\")\n",
        "    if numero % 2 == 0:\n",
        "      print(\"este numero es par\")\n",
        "      numeros_pares += 1\n",
        "      suma_pares += numero\n",
        "    else:\n",
        "      print(\"este numero es impar\")\n",
        "      numeros_impares += 1\n",
        "      suma_impares += numero\n",
        "  except ValueError:\n",
        "    print(\"error al generar el numero aleatorio\")\n",
        "\n",
        "print(f\"numeros pares: {numeros_pares}\")\n",
        "print(f\"suma de numeros pares: {suma_pares}\")\n",
        "print(f\"numeros impares: {numeros_impares}\")\n",
        "print(f\"suma de numeros impares: {suma_impares}\")\n",
        "\n"
      ],
      "metadata": {
        "colab": {
          "base_uri": "https://localhost:8080/"
        },
        "id": "2FVksoWEFIwg",
        "outputId": "74ec3177-35f3-4b74-91a2-1950c21cbda9"
      },
      "execution_count": null,
      "outputs": [
        {
          "output_type": "stream",
          "name": "stdout",
          "text": [
            "numero generado: 176\n",
            "este numero es par\n",
            "numero generado: 157\n",
            "este numero es impar\n",
            "numero generado: 49\n",
            "este numero es impar\n",
            "numero generado: 174\n",
            "este numero es par\n",
            "numero generado: 45\n",
            "este numero es impar\n",
            "numero generado: 79\n",
            "este numero es impar\n",
            "numero generado: 8\n",
            "este numero es par\n",
            "numero generado: 148\n",
            "este numero es par\n",
            "numero generado: 52\n",
            "este numero es par\n",
            "numero generado: 152\n",
            "este numero es par\n",
            "numero generado: 116\n",
            "este numero es par\n",
            "numero generado: 175\n",
            "este numero es impar\n",
            "numero generado: 124\n",
            "este numero es par\n",
            "numero generado: 150\n",
            "este numero es par\n",
            "numero generado: 65\n",
            "este numero es impar\n",
            "numero generado: 21\n",
            "este numero es impar\n",
            "numero generado: 40\n",
            "este numero es par\n",
            "numero generado: 1\n",
            "este numero es impar\n",
            "numero generado: 53\n",
            "este numero es impar\n",
            "numero generado: 6\n",
            "este numero es par\n",
            "numero generado: 148\n",
            "este numero es par\n",
            "numero generado: 125\n",
            "este numero es impar\n",
            "numero generado: 137\n",
            "este numero es impar\n",
            "numero generado: 22\n",
            "este numero es par\n",
            "numero generado: 70\n",
            "este numero es par\n",
            "numero generado: 141\n",
            "este numero es impar\n",
            "numero generado: 133\n",
            "este numero es impar\n",
            "numero generado: 45\n",
            "este numero es impar\n",
            "numero generado: 128\n",
            "este numero es par\n",
            "numero generado: 18\n",
            "este numero es par\n",
            "numero generado: 11\n",
            "este numero es impar\n",
            "numero generado: 20\n",
            "este numero es par\n",
            "numero generado: 76\n",
            "este numero es par\n",
            "numero generado: 109\n",
            "este numero es impar\n",
            "numero generado: 18\n",
            "este numero es par\n",
            "numero generado: 157\n",
            "este numero es impar\n",
            "numero generado: 129\n",
            "este numero es impar\n",
            "numero generado: 36\n",
            "este numero es par\n",
            "numero generado: 19\n",
            "este numero es impar\n",
            "numero generado: 92\n",
            "este numero es par\n",
            "numeros pares: 21\n",
            "suma de numeros pares: 1774\n",
            "numeros impares: 19\n",
            "suma de numeros impares: 1651\n"
          ]
        }
      ]
    },
    {
      "cell_type": "markdown",
      "source": [
        "2.- Programa en Python que despliegue la tabla de multiplicar de un número dado (número entre el 1 y 20)."
      ],
      "metadata": {
        "id": "60JM1pTZFJ8g"
      }
    },
    {
      "cell_type": "code",
      "source": [
        "import random\n",
        "\n",
        "while True:\n",
        "    try:\n",
        "        numero = int(input(\"Ingrese un número entre 1 y 20: \"))\n",
        "        if 1 <= numero <= 20:\n",
        "            break\n",
        "        else:\n",
        "            print(\"El número ingresado está fuera del rango válido. Intente de nuevo.\")\n",
        "    except ValueError:\n",
        "        print(\"Por favor, ingrese un número válido.\")\n",
        "\n",
        "print(f\"Tabla de multiplicar del {numero}:\")\n",
        "for i in range(1, 11):\n",
        "    resultado = numero * i\n",
        "    print(f\"{numero} x {i} = {resultado}\")\n"
      ],
      "metadata": {
        "id": "qfmK0J_3FMgm",
        "colab": {
          "base_uri": "https://localhost:8080/"
        },
        "outputId": "bc5aedf8-7659-43d1-928c-5574d5ccb072"
      },
      "execution_count": 12,
      "outputs": [
        {
          "output_type": "stream",
          "name": "stdout",
          "text": [
            "Ingrese un número entre 1 y 20: 5\n",
            "Tabla de multiplicar del 5:\n",
            "5 x 1 = 5\n",
            "5 x 2 = 10\n",
            "5 x 3 = 15\n",
            "5 x 4 = 20\n",
            "5 x 5 = 25\n",
            "5 x 6 = 30\n",
            "5 x 7 = 35\n",
            "5 x 8 = 40\n",
            "5 x 9 = 45\n",
            "5 x 10 = 50\n"
          ]
        }
      ]
    },
    {
      "cell_type": "markdown",
      "source": [
        "3.- Programa en Python que lea una calificación, las calificación deberá estar en el rango de 0 a 100, si hay un error de captura, mostrar mensaje de error. con la calificación correcta mostrar msg de aprobado reprobado.\n",
        "\n"
      ],
      "metadata": {
        "id": "dnjSiQifFM71"
      }
    },
    {
      "cell_type": "code",
      "source": [
        "import random\n",
        "\n",
        "try:\n",
        "  calif = float(input(\"ingresa su calificacion (entre 0 y 100): \"))\n",
        "  if calif < 0 or calif > 100:\n",
        "    raise ValueError(\"la calificacion debe estar en el rango de 0 a 100\")\n",
        "except ValueError as e:\n",
        "  print(f\"error: {e}\")\n",
        "else:\n",
        "  if calif >= 60:\n",
        "    print(\"aprobado\")\n",
        "  else:\n",
        "    print(\"reprobado\")\n"
      ],
      "metadata": {
        "id": "gLvoNVtKFQFX",
        "colab": {
          "base_uri": "https://localhost:8080/"
        },
        "outputId": "06e7c22e-cad5-4283-a127-c7e43f73a74b"
      },
      "execution_count": 13,
      "outputs": [
        {
          "output_type": "stream",
          "name": "stdout",
          "text": [
            "ingresa su calificacion (entre 0 y 100): 60\n",
            "aprobado\n"
          ]
        }
      ]
    },
    {
      "cell_type": "markdown",
      "source": [
        "4.- Programa en Python que lea n cantidad de números enteros dentro de un rango dado (> 0 ) , el programa deberá terminar cuando el usuario introduzca el número cero.\n",
        "\n",
        "desplegar la suma de números y la media."
      ],
      "metadata": {
        "id": "D2ZnOFjhFQ2t"
      }
    },
    {
      "cell_type": "code",
      "source": [
        "suma = 0\n",
        "contador = 0\n",
        "\n",
        "while True:\n",
        "  try:\n",
        "    numero = int(input(\"ingresa un numero (0 para terminar): \"))\n",
        "\n",
        "    if numero == 0:\n",
        "      break\n",
        "    if numero < 0:\n",
        "      raise ValueError(\"el numero debe ser mayor que 0\")\n",
        "\n",
        "    suma += numero\n",
        "    contador += 1\n",
        "  except ValueError as e:\n",
        "    print(f\"error: {e}\")\n",
        "\n",
        "\n",
        "if contador > 0:\n",
        "  media = suma / contador\n",
        "  print(f\"suma de los numeros: {suma}\")\n",
        "  print(f\"media de los numeros: {media}\")\n",
        "else:\n",
        "  print(\"numeros invalidos\")"
      ],
      "metadata": {
        "id": "D-jTk4MsFVVd",
        "colab": {
          "base_uri": "https://localhost:8080/"
        },
        "outputId": "0aea0160-1954-447f-f37c-d2c7d7708c61"
      },
      "execution_count": null,
      "outputs": [
        {
          "output_type": "stream",
          "name": "stdout",
          "text": [
            "ingresa un numero (0 para terminar): 50\n",
            "ingresa un numero (0 para terminar): 0\n",
            "suma de los numeros: 50\n",
            "media de los numeros: 50.0\n"
          ]
        }
      ]
    },
    {
      "cell_type": "markdown",
      "source": [
        "5.- Programa en Python que sirva para leer el promedio de una materia. donde el usuario tendrá un máximo de 3 oportunidades de cursar la materia, si el promedio es aprobado, felicitarlo y continuar el siguiente semestre, si promedio es reprobado deberá salir mensaje de repetir materia o es baja académica si ha reprobado 3 veces.\n",
        "\n"
      ],
      "metadata": {
        "id": "2zUm2sZUFV2H"
      }
    },
    {
      "cell_type": "code",
      "source": [
        "oportunidades = 3\n",
        "while oportunidades > 0:\n",
        "  try:\n",
        "    promedio = float(input(\"ingresa tu promedio de la materia: \"))\n",
        "    if promedio >= 6.0:\n",
        "      print(\"felicidades!! has aprobado la materia\")\n",
        "      break\n",
        "    print(\"has reprobado la materia\")\n",
        "    oportunidades -= 1\n",
        "    if oportunidades > 0:\n",
        "      print(f\"te quedan {oportunidades} oportunidades para aprobar la materia\")\n",
        "    else:\n",
        "      print(\"has reprobado la materia tres veces consecutivas, baja academica\")\n",
        "      break\n",
        "  except ValueError as e:\n",
        "    print(f\"error {e}\")"
      ],
      "metadata": {
        "id": "Qa1p4praFYmM",
        "colab": {
          "base_uri": "https://localhost:8080/"
        },
        "outputId": "972f1145-0362-4632-c237-ea063e50cd77"
      },
      "execution_count": null,
      "outputs": [
        {
          "output_type": "stream",
          "name": "stdout",
          "text": [
            "ingresa tu promedio de la materia: 68\n",
            "felicidades!! has aprobado la materia\n"
          ]
        }
      ]
    },
    {
      "cell_type": "markdown",
      "source": [
        "1.- función que lea n cantidad de números hasta que el usuario lo desee, desplegar la suma de los números, media y valor de los números mayores y menores."
      ],
      "metadata": {
        "id": "KZ9HuiBxFZPq"
      }
    },
    {
      "cell_type": "code",
      "source": [
        "def analizar_numeros():\n",
        "    numeros = []\n",
        "    while True:\n",
        "        try:\n",
        "            numero = float(input(\"Ingresa un número (o presiona 0 para terminar): \"))\n",
        "            if numero == 0:\n",
        "                break\n",
        "            numeros.append(numero)\n",
        "        except ValueError as e:\n",
        "            print(f\"Error: {e}\")\n",
        "    if not numeros:\n",
        "        print(\"No se ingresaron números.\")\n",
        "        return\n",
        "    suma = sum(numeros)\n",
        "    media = suma / len(numeros)\n",
        "    maximo = max(numeros)\n",
        "    minimo = min(numeros)\n",
        "    print(f\"Suma de los números: {suma}\")\n",
        "    print(f\"Media de los números: {media}\")\n",
        "    print(f\"Valor máximo: {maximo}\")\n",
        "    print(f\"Valor mínimo: {minimo}\")\n",
        "analizar_numeros()"
      ],
      "metadata": {
        "id": "6Yd816dMFciR",
        "colab": {
          "base_uri": "https://localhost:8080/"
        },
        "outputId": "7ab49e46-5781-4f76-c50a-f7a106f3d22a"
      },
      "execution_count": 1,
      "outputs": [
        {
          "output_type": "stream",
          "name": "stdout",
          "text": [
            "Ingresa un número (o presiona 0 para terminar): 70\n",
            "Ingresa un número (o presiona 0 para terminar): 10\n",
            "Ingresa un número (o presiona 0 para terminar): 0\n",
            "Suma de los números: 80.0\n",
            "Media de los números: 40.0\n",
            "Valor máximo: 70.0\n",
            "Valor mínimo: 10.0\n"
          ]
        }
      ]
    },
    {
      "cell_type": "markdown",
      "source": [
        "2.- función que genere 15 números impares entre 10 y 60 o máximo de 25 números. desplegar la media de los pares y media de impares."
      ],
      "metadata": {
        "id": "ho3FNDytFc5A"
      }
    },
    {
      "cell_type": "code",
      "source": [
        "import random\n",
        "impares = []\n",
        "pares = []\n",
        "\n",
        "for _ in range(25):\n",
        "  num = random.randint(10, 60)\n",
        "\n",
        "  if num % 2 == 0:\n",
        "    pares.append(num)\n",
        "  else:\n",
        "    impares.append(num)\n",
        "\n",
        "  if len(impares) >= 15:\n",
        "    break\n",
        "\n",
        "if len(pares) > 0:\n",
        "  media_pares = sum(impares) / len(impares)\n",
        "else:\n",
        "  media_pares = 0\n",
        "\n",
        "print(\"impares generados: \", impares)\n",
        "print(\"pares generados: \", pares)\n",
        "print(\"media de numeros impares: \", media_impares)\n",
        "print(\"media de numeros pares: \", media_pares)"
      ],
      "metadata": {
        "id": "szHy3HTbdOMn",
        "colab": {
          "base_uri": "https://localhost:8080/"
        },
        "outputId": "b474be45-bf39-40cd-dd4f-be5a9a286e68"
      },
      "execution_count": 3,
      "outputs": [
        {
          "output_type": "stream",
          "name": "stdout",
          "text": [
            "impares generados:  [27, 51, 11, 57, 35, 19, 33, 57, 17]\n",
            "pares generados:  [28, 46, 56, 34, 52, 52, 52, 12, 26, 48, 40, 48, 22, 38, 42, 26]\n",
            "media de numeros impares:  33.30769230769231\n",
            "media de numeros pares:  34.111111111111114\n"
          ]
        }
      ]
    },
    {
      "cell_type": "markdown",
      "source": [
        "3.- función que sirva para leer y validar un número dentro de un rango dado por el usuario. repetir esta acción hasta que el usuario lo desee, desplegar cantidad de números y promedio de los números.."
      ],
      "metadata": {
        "id": "oQEyuoyvFfw7"
      }
    },
    {
      "cell_type": "code",
      "source": [
        "import random\n",
        "\n",
        "def leer_numeros(minimo, maximo):\n",
        "  while True:\n",
        "    try:\n",
        "      numero = int(input(f\"ingrese un numero entre {minimo} y {maximo}: \"))\n",
        "      if minimo <= numero <= maximo:\n",
        "        return numero\n",
        "      else:\n",
        "        print(f\"el numero debe estar dentro del rango entre {minimo} y {maximo}. Favor de reintentarlo\")\n",
        "    except ValueError:\n",
        "      print(\"favor de ingresar un numero valido\")\n",
        "total_numeros = 0\n",
        "suma_numeros = 0\n",
        "\n",
        "for _ in range(25):\n",
        "  numero = leer_numeros(10,60 )\n",
        "  total_numeros += 1\n",
        "  suma_numeros += numero\n",
        "\n",
        "  respuesta = input(\"desea ingresar otro numero? (s/n): \")\n",
        "  if respuesta.lower() != 's':\n",
        "    break\n",
        "if total_numeros > 0:\n",
        "  promedio = suma_numeros / total_numeros\n",
        "else:\n",
        "  promedio = 0\n",
        "\n",
        "print(f\"numeros ingresados: {total_numeros}\")\n",
        "print(f\"promedio: {promedio}\")"
      ],
      "metadata": {
        "id": "bM8ZV9xWFjEC",
        "colab": {
          "base_uri": "https://localhost:8080/"
        },
        "outputId": "30573971-ece0-426c-fd90-99053b06f091"
      },
      "execution_count": 5,
      "outputs": [
        {
          "output_type": "stream",
          "name": "stdout",
          "text": [
            "ingrese un numero entre 10 y 60: 40\n",
            "desea ingresar otro numero? (s/n): no\n",
            "numeros ingresados: 1\n",
            "promedio: 40.0\n"
          ]
        }
      ]
    },
    {
      "cell_type": "markdown",
      "source": [
        "4.- función que reciba como parámetro los valores para el área de un triángulo y retorne su resultado"
      ],
      "metadata": {
        "id": "W-Tlm3ioFjdr"
      }
    },
    {
      "cell_type": "code",
      "source": [
        "import random\n",
        "def calcular_area_triangulo(base, altura):\n",
        "  try:\n",
        "    area = (base * altura) / 2\n",
        "    return area\n",
        "  except ZeroDivisionError:\n",
        "    print(\"no puede ser 0\")\n",
        "    return None\n",
        "def obtener_datos_triangulo():\n",
        "  for _ in range(3):\n",
        "    try:\n",
        "      base = float(input(\"ingresa la base del triangulo: \"))\n",
        "      altura =float(input(\"ingrese la altura del triangulo: \"))\n",
        "      area = calcular_area_triangulo(base,altura)\n",
        "\n",
        "      if area is not None:\n",
        "        return area\n",
        "    except ValueError:\n",
        "      print(\"error en los valores\")\n",
        "    return None\n",
        "\n",
        "area_resultante = obtener_datos_triangulo()\n",
        "if area_resultante is not None:\n",
        "  print(f\"el area del triangulo es: {area_resultante}\")\n"
      ],
      "metadata": {
        "id": "W9Z-JEBCdOr3",
        "colab": {
          "base_uri": "https://localhost:8080/"
        },
        "outputId": "a073c832-8022-475b-b388-d6896b200e66"
      },
      "execution_count": 14,
      "outputs": [
        {
          "output_type": "stream",
          "name": "stdout",
          "text": [
            "ingresa la base del triangulo: 3\n",
            "ingrese la altura del triangulo: 3\n",
            "el area del triangulo es: 4.5\n"
          ]
        }
      ]
    },
    {
      "cell_type": "markdown",
      "source": [
        "5.- función que sirva para validar un número dentro de un rango dado."
      ],
      "metadata": {
        "id": "H8nANJ8mFmXZ"
      }
    },
    {
      "cell_type": "code",
      "source": [
        "import random\n",
        "\n",
        "def validar_numero_en_rango(numero, minimo, maximo):\n",
        "    try:\n",
        "        numero = int(numero)\n",
        "        if minimo <= numero <= maximo:\n",
        "            return True\n",
        "        else:\n",
        "            return False\n",
        "    except ValueError:\n",
        "        return False\n",
        "\n",
        "minimo = 10\n",
        "maximo = 60\n",
        "\n",
        "for _ in range(3):\n",
        "    numero = input(f\"Ingrese un número entre {minimo} y {maximo}: \")\n",
        "    if validar_numero_en_rango(numero, minimo, maximo):\n",
        "        print(\"Número válido.\")\n",
        "        break\n",
        "    else:\n",
        "        print(\"Número no válido. Inténtelo nuevamente.\")\n",
        "\n",
        "\n"
      ],
      "metadata": {
        "colab": {
          "base_uri": "https://localhost:8080/"
        },
        "id": "oWyH-X1p0PWo",
        "outputId": "f64bd9ae-428c-47b8-cfc0-a2f03dae1ab0"
      },
      "execution_count": 11,
      "outputs": [
        {
          "output_type": "stream",
          "name": "stdout",
          "text": [
            "Ingrese un número entre 10 y 60: 10\n",
            "Número válido.\n"
          ]
        }
      ]
    }
  ]
}