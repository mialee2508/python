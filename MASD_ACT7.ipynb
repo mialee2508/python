{
  "nbformat": 4,
  "nbformat_minor": 0,
  "metadata": {
    "colab": {
      "provenance": [],
      "authorship_tag": "ABX9TyN4BnOkiIlk6oluCLT5jNjm",
      "include_colab_link": true
    },
    "kernelspec": {
      "name": "python3",
      "display_name": "Python 3"
    },
    "language_info": {
      "name": "python"
    }
  },
  "cells": [
    {
      "cell_type": "markdown",
      "metadata": {
        "id": "view-in-github",
        "colab_type": "text"
      },
      "source": [
        "<a href=\"https://colab.research.google.com/github/mialee2508/python/blob/main/MASD_ACT7.ipynb\" target=\"_parent\"><img src=\"https://colab.research.google.com/assets/colab-badge.svg\" alt=\"Open In Colab\"/></a>"
      ]
    },
    {
      "cell_type": "markdown",
      "source": [
        "**Actividad 7**\n",
        "\n",
        "**Fecha: 4 de Octubre 2023**\n",
        "\n",
        "**Michelle A. Sanchez Dominguez**\n",
        "\n",
        "**LISTAS**"
      ],
      "metadata": {
        "id": "VEluHtz1KN4r"
      }
    },
    {
      "cell_type": "markdown",
      "source": [
        "1.- Función que utilice una lista con los nombres de tus mascotas, o artistas favoritos, (minimo 5, maximo 10) imprimir las cadenas y la cantidad de caracteres de cada cadena.  \n",
        "\n",
        "EJEMPLO SALIDA:\n",
        "\n",
        "[0]SCARLETT --> 8 CARACTERES\n",
        "\n",
        "[1]GATINA --> 6 CARACTERES\n",
        "\n",
        "[2]PELUSA --> 6 CARACTERES\n",
        "\n",
        "[3]PELUSINA --> 8 CARACTERES\n",
        "\n",
        "[4]MILO --> 4 CARACTERES\n",
        "\n",
        "[5]KHALIFA --> 7 CARACTERES\n",
        "\n"
      ],
      "metadata": {
        "id": "cp1qWMdmPDud"
      }
    },
    {
      "cell_type": "code",
      "source": [
        "nombres = [\"SCARLET\", \"GATINA\", \"PELUSA\", \"PELUSINA\", \"MILO\", \"KHALIFA\"]\n",
        "\n",
        "for i, nombre in enumerate(nombres):\n",
        "  print(f\"[{i}] {nombres} ---> {len(nombre)} CARACTERES\")"
      ],
      "metadata": {
        "colab": {
          "base_uri": "https://localhost:8080/"
        },
        "id": "vQfKshlnPDIS",
        "outputId": "9060f464-e089-43a5-858d-47977095db96"
      },
      "execution_count": null,
      "outputs": [
        {
          "output_type": "stream",
          "name": "stdout",
          "text": [
            "[0] ['SCARLET', 'GATINA', 'PELUSA', 'PELUSINA', 'MILO', 'KHALIFA'] ---> 7 CARACTERES\n",
            "[1] ['SCARLET', 'GATINA', 'PELUSA', 'PELUSINA', 'MILO', 'KHALIFA'] ---> 6 CARACTERES\n",
            "[2] ['SCARLET', 'GATINA', 'PELUSA', 'PELUSINA', 'MILO', 'KHALIFA'] ---> 6 CARACTERES\n",
            "[3] ['SCARLET', 'GATINA', 'PELUSA', 'PELUSINA', 'MILO', 'KHALIFA'] ---> 8 CARACTERES\n",
            "[4] ['SCARLET', 'GATINA', 'PELUSA', 'PELUSINA', 'MILO', 'KHALIFA'] ---> 4 CARACTERES\n",
            "[5] ['SCARLET', 'GATINA', 'PELUSA', 'PELUSINA', 'MILO', 'KHALIFA'] ---> 7 CARACTERES\n"
          ]
        }
      ]
    },
    {
      "cell_type": "markdown",
      "source": [
        "2.- Programa que utilice 2 funciones,\n",
        "\n",
        "Función que genere y regrese una lista con 10 números aleatorios entre el 30 y 50 (no repetidos).\n",
        "Función que reciba una lista , Imprimir la lista (Indice y Valor )\n",
        "\n",
        "\n",
        " Mandar llamar la función e imprimir toda la lista."
      ],
      "metadata": {
        "id": "d3E0pyAVPEIR"
      }
    },
    {
      "cell_type": "code",
      "source": [
        "import random\n",
        "def generar_numeros_aleatorios():\n",
        "  numeros_aleatorios = random. sample(range(30, 51,),10)\n",
        "  return numeros_aleatorios\n",
        "\n",
        "def imprimir_lista_con_indice(lista):\n",
        "  for i, valor in enumerate(lista):\n",
        "    print(f\"[{i}] {valor}\")\n",
        "\n",
        "numeros_aleatorios = generar_numeros_aleatorios()\n",
        "\n",
        "imprimir_lista_con_indice(numeros_aleatorios)"
      ],
      "metadata": {
        "colab": {
          "base_uri": "https://localhost:8080/"
        },
        "id": "ugyoUyQyPEZQ",
        "outputId": "95e306c3-bd12-46b6-97a2-2155f227f75c"
      },
      "execution_count": null,
      "outputs": [
        {
          "output_type": "stream",
          "name": "stdout",
          "text": [
            "[0] 42\n",
            "[1] 30\n",
            "[2] 38\n",
            "[3] 46\n",
            "[4] 40\n",
            "[5] 47\n",
            "[6] 50\n",
            "[7] 31\n",
            "[8] 44\n",
            "[9] 35\n"
          ]
        }
      ]
    },
    {
      "cell_type": "markdown",
      "source": [
        "3.- Escribe una función que reciba dos listas de números del mismo tamaño y calcule la suma de los elementos correspondientes de cada lista. (regresar una nueva lista) . Luego, muestra una lista con los resultados de cada suma. Nota: si las listas no son del mismo tamaño mandar msge y utilizar el tamaño de la lista mas pequeña)"
      ],
      "metadata": {
        "id": "qJgtv9MiPEuZ"
      }
    },
    {
      "cell_type": "code",
      "source": [
        "def suma_de_listas(lista1, lista2):\n",
        "  if len(lista1) != len(lista2):\n",
        "    print(\"las listas no tienen el mismo tamano\")\n",
        "  else:\n",
        "    min_length = len(lista1)\n",
        "\n",
        "  resultados = []\n",
        "\n",
        "  for i in range(min_length):\n",
        "    suma = lista1[i] + lista2[i]\n",
        "    resultados.append(suma)\n",
        "\n",
        "  return resultados\n",
        "\n",
        "lista1 = [1, 2, 3, 4, 5]\n",
        "lista2 = [5, 4, 3, 2, 1]\n",
        "\n",
        "resultados = suma_de_listas(lista1, lista2)\n",
        "print(\"resultados de las sumas: \", resultados)"
      ],
      "metadata": {
        "colab": {
          "base_uri": "https://localhost:8080/"
        },
        "id": "fSP_ZV2KPFFi",
        "outputId": "37b211da-01c6-4680-fd75-18e26c138a6b"
      },
      "execution_count": null,
      "outputs": [
        {
          "output_type": "stream",
          "name": "stdout",
          "text": [
            "resultados de las sumas:  [6, 6, 6, 6, 6]\n"
          ]
        }
      ]
    },
    {
      "cell_type": "markdown",
      "source": [
        "4.- Escribe una función llamada eliminar_duplicados que reciba una lista como parámetro y elimine los elementos duplicados. El resultado debe ser una nueva lista sin duplicados. Pide al usuario que ingrese una lista y luego llama a la función eliminar_duplicados para mostrar la lista sin duplicados. (Solo Numeros enteros, validar)"
      ],
      "metadata": {
        "id": "QE04U5T8Pojc"
      }
    },
    {
      "cell_type": "code",
      "source": [
        "def eliminar_duplicados(lista):\n",
        "  lista_sin_duplicados = []\n",
        "  for elemento in lista:\n",
        "    if elemento not in lista_sin_duplicados:\n",
        "      lista_sin_duplicados.append(elemento)\n",
        "      return lista_sin_duplicados\n",
        "def main():\n",
        "  try:\n",
        "    entrada = input(\"ingrese un lista de numeros enteros separados por espacio\")\n",
        "    lista = [int(numero) for numero in entrada.split()]\n",
        "    resultado = eliminar_duplicados(lista)\n",
        "    print(\"lista sin duplicados: \", resultado)\n",
        "  except ValueError:\n",
        "    print(\"ingrese solo numero enteros separados por espacio\")\n",
        "\n",
        "if __name__ == \"__main__\":\n",
        "  main()"
      ],
      "metadata": {
        "colab": {
          "base_uri": "https://localhost:8080/"
        },
        "id": "8yGO4r9CPqmw",
        "outputId": "91594753-7445-4b22-b02a-ee2fd1b8538f"
      },
      "execution_count": null,
      "outputs": [
        {
          "output_type": "stream",
          "name": "stdout",
          "text": [
            "ingrese un lista de numeros enteros12 13 14 15 \n",
            "lista sin duplicados:  [12]\n"
          ]
        }
      ]
    },
    {
      "cell_type": "markdown",
      "source": [
        "5.- Escribe una función que calcule la media y la mediana de una lista de números enteros.\n",
        "\n",
        "La media es la suma de todos los elementos y dividido entre la cantidad de elementos\n",
        "\n",
        "La mediana es el valor que queda en la mitad de la lista cuando se ordena de forma ascendente. Si la lista tiene un número par de elementos, la mediana se calcula como el promedio de los dos valores centrales. Puedes utilizar el método sort() para ordenar la lista y luego calcular la mediana según el tamaño de la lista."
      ],
      "metadata": {
        "id": "gHPpFJMbPq8S"
      }
    },
    {
      "cell_type": "code",
      "source": [
        "def calcular_media(lista):\n",
        "  if not lista:\n",
        "    return None\n",
        "\n",
        "  suma = sum(lista)\n",
        "  media = suma/ len(lista)\n",
        "  return media\n",
        "\n",
        "def calcular_mediana(lista):\n",
        "  if not lista:\n",
        "    return None\n",
        "  lista_ordenada = sorted(lista)\n",
        "  n = len(lista_ordenada)\n",
        "  if n % 2 == 0:\n",
        "\n",
        "      indice1= n // 2 - 1\n",
        "      indice2 = n // 2\n",
        "      mediana = (lista_ordenada[indice1] + lista_ordenada[indice2]) / 2\n",
        "  else:\n",
        "    indice = n // 2\n",
        "    mediana = lista_ordenada[indice]\n",
        "  return mediana\n",
        "\n",
        "def main():\n",
        "  try:\n",
        "    entrada = (input(\"ingrese un lista de numeros enteros separados por espacio\"))\n",
        "    lista = [int(numero) for numero in entrada.split()]\n",
        "\n",
        "    media = calcular_media(lista)\n",
        "    mediana = calcular_mediana(lista)\n",
        "\n",
        "    if media is not None:\n",
        "      print(\"media: \", media)\n",
        "    else:\n",
        "      print(\"la lista esta vacia no se puede calcular la media\")\n",
        "\n",
        "    if mediana is not None:\n",
        "      print(\"mediana: \", mediana)\n",
        "    else:\n",
        "      print(\"la lista esta vacia no se puede calcular la mediana\")\n",
        "  except ValueError:\n",
        "    print(\"ingrese solo numeros enteros separados por espacio\")\n",
        "\n",
        "if __name__ == \"__main__\":\n",
        "  main()"
      ],
      "metadata": {
        "colab": {
          "base_uri": "https://localhost:8080/"
        },
        "id": "_Kc9a2M8P1qf",
        "outputId": "0fb65ee5-6c93-47ec-84d0-fd4e0165d621"
      },
      "execution_count": null,
      "outputs": [
        {
          "output_type": "stream",
          "name": "stdout",
          "text": [
            "ingrese un lista de numeros enteros separados por espacio30 40 50 60 \n",
            "media:  45.0\n",
            "mediana:  45.0\n"
          ]
        }
      ]
    }
  ]
}