{
  "nbformat": 4,
  "nbformat_minor": 0,
  "metadata": {
    "colab": {
      "provenance": [],
      "authorship_tag": "ABX9TyPSHobP+sSwJxXWW4TDAU8r",
      "include_colab_link": true
    },
    "kernelspec": {
      "name": "python3",
      "display_name": "Python 3"
    },
    "language_info": {
      "name": "python"
    }
  },
  "cells": [
    {
      "cell_type": "markdown",
      "metadata": {
        "id": "view-in-github",
        "colab_type": "text"
      },
      "source": [
        "<a href=\"https://colab.research.google.com/github/mialee2508/python/blob/main/MASD_PY_exa1.ipynb\" target=\"_parent\"><img src=\"https://colab.research.google.com/assets/colab-badge.svg\" alt=\"Open In Colab\"/></a>"
      ]
    },
    {
      "cell_type": "markdown",
      "source": [
        "Escribe una funcion de Python en collaboratory que realice lo siguiente:\n",
        "\n",
        "funcion que retorne un diccionario con los datos basicos de un alumno (pedir al usuario y validar)\n",
        "\n",
        "Escribir codigo que mande llamar la funcion y desplegar el resultado,"
      ],
      "metadata": {
        "id": "GoBYkVpi5kaS"
      }
    },
    {
      "cell_type": "code",
      "source": [
        "def datos_alumno():\n",
        "    alumno = {}\n",
        "\n",
        "    while True:\n",
        "        nombre = input(\"Ingrese el nombre del alumno: \").strip()\n",
        "        if nombre:\n",
        "            alumno['nombre'] = nombre\n",
        "            break\n",
        "        else:\n",
        "            print(\"Por favor, ingrese un nombre válido.\")\n",
        "    while True:\n",
        "        try:\n",
        "            edad = int(input(\"Ingrese la edad del alumno: \"))\n",
        "            if 0 < edad < 150:\n",
        "                alumno['edad'] = edad\n",
        "                break\n",
        "            else:\n",
        "                print(\"Por favor, ingrese una edad válida.\")\n",
        "        except ValueError:\n",
        "            print(\"Por favor, ingrese un valor numérico para la edad.\")\n",
        "\n",
        "    while True:\n",
        "        matricula = input(\"Ingrese la matrícula del alumno: \").strip()\n",
        "        if matricula:\n",
        "            alumno['matricula'] = matricula\n",
        "            break\n",
        "        else:\n",
        "            print(\"Por favor, ingrese una matrícula válida.\")\n",
        "\n",
        "    return alumno\n",
        "\n",
        "\n",
        "datos_alumno = datos_alumno()\n",
        "\n",
        "print(\"\\nDatos del alumno:\")\n",
        "print(\"nombre:\", datos_alumno['nombre'])\n",
        "print(\"edad:\", datos_alumno['edad'])\n",
        "print(\"matricula:\", datos_alumno['matricula'])\n"
      ],
      "metadata": {
        "colab": {
          "base_uri": "https://localhost:8080/"
        },
        "id": "ERrjF39w8pa_",
        "outputId": "87fb7e04-153e-4398-b080-c6c5ca2dfccf"
      },
      "execution_count": null,
      "outputs": [
        {
          "output_type": "stream",
          "name": "stdout",
          "text": [
            "Ingrese el nombre del alumno: axel\n",
            "Ingrese la edad del alumno: 20\n",
            "Ingrese la matrícula del alumno: 372720\n",
            "\n",
            "Datos del alumno:\n",
            "nombre: axel\n",
            "edad: 20\n",
            "matricula: 372720\n"
          ]
        }
      ]
    },
    {
      "cell_type": "code",
      "source": [
        "def factorial(numero):\n",
        "    if numero == 0 or numero == 1:\n",
        "        return 1\n",
        "    else:\n",
        "        return numero * factorial(numero - 1)\n",
        "\n",
        "numero_ingresado = int(input(\"Ingrese un número para calcular su factorial: \"))\n",
        "resultado_factorial = factorial(numero_ingresado)\n",
        "\n",
        "print(f\"El factorial de {numero_ingresado} es: {resultado_factorial}\")\n"
      ],
      "metadata": {
        "colab": {
          "base_uri": "https://localhost:8080/"
        },
        "id": "-M9fM0v1Ap4X",
        "outputId": "6beedfcf-0e4b-4358-fb36-66e21ae373a0"
      },
      "execution_count": 9,
      "outputs": [
        {
          "output_type": "stream",
          "name": "stdout",
          "text": [
            "Ingrese un número para calcular su factorial: 30\n",
            "El factorial de 30 es: 265252859812191058636308480000000\n"
          ]
        }
      ]
    },
    {
      "cell_type": "code",
      "source": [
        "import random\n",
        "\n",
        "def generar_numeros_aleatorios():\n",
        "    numeros_aleatorios = random.sample(range(20, 101), 30)\n",
        "    return numeros_aleatorios\n",
        "\n",
        "lista_numeros = generar_numeros_aleatorios()\n",
        "\n",
        "print(\"Lista de 30 números aleatorios no repetidos:\")\n",
        "print(lista_numeros)\n"
      ],
      "metadata": {
        "colab": {
          "base_uri": "https://localhost:8080/"
        },
        "id": "S7w6hn4UBMgE",
        "outputId": "32f69b1b-13a2-4294-abef-aada9d3f28cd"
      },
      "execution_count": 10,
      "outputs": [
        {
          "output_type": "stream",
          "name": "stdout",
          "text": [
            "Lista de 30 números aleatorios no repetidos:\n",
            "[58, 92, 68, 42, 22, 52, 56, 48, 85, 60, 86, 46, 67, 98, 81, 34, 73, 64, 88, 99, 66, 57, 55, 82, 41, 69, 83, 51, 96, 33]\n"
          ]
        }
      ]
    }
  ]
}