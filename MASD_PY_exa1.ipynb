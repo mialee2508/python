{
  "nbformat": 4,
  "nbformat_minor": 0,
  "metadata": {
    "colab": {
      "provenance": [],
      "authorship_tag": "ABX9TyN27TSvw8rLapismpogaZlE",
      "include_colab_link": true
    },
    "kernelspec": {
      "name": "python3",
      "display_name": "Python 3"
    },
    "language_info": {
      "name": "python"
    }
  },
  "cells": [
    {
      "cell_type": "markdown",
      "metadata": {
        "id": "view-in-github",
        "colab_type": "text"
      },
      "source": [
        "<a href=\"https://colab.research.google.com/github/mialee2508/python/blob/main/MASD_PY_exa1.ipynb\" target=\"_parent\"><img src=\"https://colab.research.google.com/assets/colab-badge.svg\" alt=\"Open In Colab\"/></a>"
      ]
    },
    {
      "cell_type": "markdown",
      "source": [
        "Escribe una funcion de Python en collaboratory que realice lo siguiente:\n",
        "\n",
        "funcion que retorne un diccionario con los datos basicos de un alumno (pedir al usuario y validar)\n",
        "\n",
        "Escribir codigo que mande llamar la funcion y desplegar el resultado,"
      ],
      "metadata": {
        "id": "GoBYkVpi5kaS"
      }
    },
    {
      "cell_type": "code",
      "source": [
        "def datos_alumno():\n",
        "    alumno = {}\n",
        "\n",
        "    while True:\n",
        "        nombre = input(\"Ingrese el nombre del alumno: \").strip()\n",
        "        if nombre:\n",
        "            alumno['nombre'] = nombre\n",
        "            break\n",
        "        else:\n",
        "            print(\"Por favor, ingrese un nombre válido.\")\n",
        "    while True:\n",
        "        try:\n",
        "            edad = int(input(\"Ingrese la edad del alumno: \"))\n",
        "            if 0 < edad < 150:\n",
        "                alumno['edad'] = edad\n",
        "                break\n",
        "            else:\n",
        "                print(\"Por favor, ingrese una edad válida.\")\n",
        "        except ValueError:\n",
        "            print(\"Por favor, ingrese un valor numérico para la edad.\")\n",
        "\n",
        "    while True:\n",
        "        matricula = input(\"Ingrese la matrícula del alumno: \").strip()\n",
        "        if matricula:\n",
        "            alumno['matricula'] = matricula\n",
        "            break\n",
        "        else:\n",
        "            print(\"Por favor, ingrese una matrícula válida.\")\n",
        "\n",
        "    return alumno\n",
        "\n",
        "\n",
        "datos_alumno = datos_alumno()\n",
        "\n",
        "print(\"\\nDatos del alumno:\")\n",
        "print(\"nombre:\", datos_alumno['nombre'])\n",
        "print(\"edad:\", datos_alumno['edad'])\n",
        "print(\"matricula:\", datos_alumno['matricula'])\n"
      ],
      "metadata": {
        "colab": {
          "base_uri": "https://localhost:8080/"
        },
        "id": "ERrjF39w8pa_",
        "outputId": "87fb7e04-153e-4398-b080-c6c5ca2dfccf"
      },
      "execution_count": 7,
      "outputs": [
        {
          "output_type": "stream",
          "name": "stdout",
          "text": [
            "Ingrese el nombre del alumno: axel\n",
            "Ingrese la edad del alumno: 20\n",
            "Ingrese la matrícula del alumno: 372720\n",
            "\n",
            "Datos del alumno:\n",
            "nombre: axel\n",
            "edad: 20\n",
            "matricula: 372720\n"
          ]
        }
      ]
    }
  ]
}