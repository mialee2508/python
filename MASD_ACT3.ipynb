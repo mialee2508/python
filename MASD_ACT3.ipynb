{
  "nbformat": 4,
  "nbformat_minor": 0,
  "metadata": {
    "colab": {
      "provenance": [],
      "authorship_tag": "ABX9TyNHbgej0JHasobZFWpXgPB9",
      "include_colab_link": true
    },
    "kernelspec": {
      "name": "python3",
      "display_name": "Python 3"
    },
    "language_info": {
      "name": "python"
    }
  },
  "cells": [
    {
      "cell_type": "markdown",
      "metadata": {
        "id": "view-in-github",
        "colab_type": "text"
      },
      "source": [
        "<a href=\"https://colab.research.google.com/github/mialee2508/python/blob/main/MASD_ACT3.ipynb\" target=\"_parent\"><img src=\"https://colab.research.google.com/assets/colab-badge.svg\" alt=\"Open In Colab\"/></a>"
      ]
    },
    {
      "cell_type": "markdown",
      "source": [
        "**Actividad 3**\n",
        "\n",
        "**Fecha: 3 de Septiembre**\n",
        "\n",
        "**Michelle A. Sanchez Dominguez**"
      ],
      "metadata": {
        "id": "0ftqlVi88et1"
      }
    },
    {
      "cell_type": "markdown",
      "source": [
        " 1.Algoritmo que lea 3 calificaciones calcule el promedio del alumno y desplegar:\n",
        "\n",
        "Si prom < 30 Repetir\n",
        "\n",
        "Si prom >=30 y prom <60 extraordinario\n",
        "\n",
        "Si prom >=60 y prom <70 suficiente\n",
        "\n",
        "Si prom >=70 y prom <80 Regular\n",
        "\n",
        "Si prom >=80 y prom <90 bien\n",
        "\n",
        "Si prom >=90 y prom <98 muy bien\n",
        "\n",
        "Si prom >=98 y prom <=100 excelente\n",
        "\n",
        "Si prom >100 Error en promedio"
      ],
      "metadata": {
        "id": "EMenlr3386Ci"
      }
    },
    {
      "cell_type": "code",
      "source": [
        "calif1 = float(input(\"Ingrese la calif 1: \"))\n",
        "calif2 = float(input(\"Ingrese la calif 2: \"))\n",
        "calif3 = float(input(\"Ingrese la calif 3: \"))\n",
        "promedio = (calif1 + calif2 + calif3) / 3\n",
        "\n",
        "if promedio < 30:\n",
        "  print (\"Repetir\")\n",
        "elif promedio <60:\n",
        "  print (\"extraordinario\")\n",
        "elif promedio <70:\n",
        "  print (\"suficiente\")\n",
        "elif promedio <80:\n",
        "  print (\"regular\")\n",
        "elif promedio <90:\n",
        "  print (\"bien\")\n",
        "elif promedio <98:\n",
        "  print (\"muy bien\")\n",
        "elif promedio <= 100:\n",
        "  print (\"excelente\")\n",
        "else:\n",
        "  promedio >100\n",
        "  print (\"error en promedio\")\n",
        "\n"
      ],
      "metadata": {
        "colab": {
          "base_uri": "https://localhost:8080/"
        },
        "id": "KURWxlQr9Xxt",
        "outputId": "8c783da6-ce11-473b-f3cb-53473faa7011"
      },
      "execution_count": null,
      "outputs": [
        {
          "output_type": "stream",
          "name": "stdout",
          "text": [
            "Ingrese la calif 1: 100\n",
            "Ingrese la calif 2: 100\n",
            "Ingrese la calif 3: 100\n",
            "excelente\n"
          ]
        }
      ]
    },
    {
      "cell_type": "markdown",
      "source": [
        "2.- Algoritmo que sirva para calcular el salario semanal de un trabajador donde se obtiene como dato de entrada las horas semanales trabajadas, el salario por hora.\n",
        "\n",
        "El programa deberá calcular el salario normal, salario extra y salario total, considerando lo siguiente:\n",
        "\n",
        "Jornada Normal de 40 horas.\n",
        "El salario normal se considera las horas trabajadas menores o igual a la jornada normal\n",
        "Salario extra se considera las horas trabajadas mayores a la jornada normal y se pagan dobles las primeras 9 y triples a partir de la décima hora extra\n"
      ],
      "metadata": {
        "id": "7sgOgcOI9ee7"
      }
    },
    {
      "cell_type": "code",
      "source": [
        "horas_trabajadas = float(input(\"ingresar las horas trabajadas a la semana: \"))\n",
        "salario_por_hora = float(input(\"ingresa el salario por hora: \"))\n",
        "\n",
        "jornada_normal = 40\n",
        "salario_normal = 0\n",
        "salario_extra = 0\n",
        "\n",
        "if horas_trabajadas <= jornada_normal:\n",
        "  salario_normal = horas_trabajadas * salario_por_hora\n",
        "else:\n",
        "  salario_normal = jornada_normal * salario_por_hora\n",
        "  horas_extra = horas_trabajadas - jornada_normal\n",
        "  if horas_extra <= 9:\n",
        "    salario_extra = horas_extra * (2 * salario_por_hora)\n",
        "  else:\n",
        "      salario_extra = 9 * (2 * salario_por_hora) + (horas_extra - 9) * (3 * salario_por_hora)\n",
        "\n",
        "salario_total = salario_normal + salario_extra\n",
        "\n",
        "\n",
        "print(\"salario por hora: \", salario_por_hora)\n",
        "print(\"horas trabajadas: \", horas_trabajadas)\n",
        "print(\"salario normal: \", salario_normal)\n",
        "print(\"salario extra: \", salario_extra)\n",
        "print(\"salario total: \", salario_total)\n",
        "\n",
        "\n",
        "\n",
        "\n"
      ],
      "metadata": {
        "colab": {
          "base_uri": "https://localhost:8080/"
        },
        "id": "c52z_I889lJf",
        "outputId": "ce58bf8e-b497-48f7-82dc-05fce9ea900e"
      },
      "execution_count": 4,
      "outputs": [
        {
          "output_type": "stream",
          "name": "stdout",
          "text": [
            "ingresar las horas trabajadas a la semana: 40 \n",
            "ingresa el salario por hora: 200\n",
            "salario por hora:  200.0\n",
            "horas trabajadas:  40.0\n",
            "salario normal:  8000.0\n",
            "salario extra:  0\n",
            "salario total:  8000.0\n"
          ]
        }
      ]
    },
    {
      "cell_type": "markdown",
      "source": [
        " 3.- Algoritmo que sirva para desplegar el Total de una llamada telefónica donde se pide como datos de entrada los minutos y el tipo de llamada, se cobra de la siguiente manera:\n",
        "\n",
        "1.- Llamada Local $3.00 sin límite de tiempo\n",
        "\n",
        "2.- Llamada Nacional $7.00 por los 3 primeros minutos y $2.00 minuto adicional\n",
        "\n",
        "3.- Llamada Internacional $9.00 por los 2 primeros minutos y $4.00 minuto adicional\n",
        "\n",
        " Desplegar, Subtotal,Iva (16%) y Total."
      ],
      "metadata": {
        "id": "sHS_q4iE9l5y"
      }
    },
    {
      "cell_type": "code",
      "source": [
        "minutos = int(input(\"Ingresa los minutos: \"))\n",
        "tipo_llamada = input(\"Ingresa el tipo de llamada(1 para local, 2 para nacional, 3 para internacional): \")\n",
        "\n",
        "costo_local = 3\n",
        "costo_nacional = 7\n",
        "costo_internacional = 9\n",
        "\n",
        "subtotal = 0\n",
        "\n",
        "if tipo_llamada == \"1\":\n",
        "  subtotal = minutos * costo_local\n",
        "elif tipo_llamada == \"2\":\n",
        "  if minutos <= 3:\n",
        "    subtotal = 7\n",
        "  else:\n",
        "    subtotal = 7 + (minutos - 3) * 2\n",
        "elif tipo_llamada == \"3\":\n",
        "  if minutos <= 2:\n",
        "    subtotal = 9\n",
        "  else:\n",
        "    subtotal = 9 + (minutos - 2)* 4\n",
        "else:\n",
        "  print(\"no valido\")\n",
        "\n",
        "\n",
        "iva = subtotal * 0.16\n",
        "total = subtotal + iva\n",
        "\n",
        "print(\"subtotal: $\", subtotal)\n",
        "print(\"iva: $\", iva)\n",
        "print(\"total: $\", total)\n",
        "\n",
        "\n",
        "\n"
      ],
      "metadata": {
        "id": "3j8i7ba59xBR",
        "colab": {
          "base_uri": "https://localhost:8080/"
        },
        "outputId": "5e4b59e9-842c-4d36-cb5b-01ea4dcb1dfd"
      },
      "execution_count": 6,
      "outputs": [
        {
          "output_type": "stream",
          "name": "stdout",
          "text": [
            "Ingresa los minutos: 30\n",
            "Ingresa el tipo de llamada(1 para local, 2 para nacional, 3 para internacional): 1\n",
            "subtotal: $ 90\n",
            "iva: $ 14.4\n",
            "total: $ 104.4\n"
          ]
        }
      ]
    },
    {
      "cell_type": "markdown",
      "source": [
        "4.- Algoritmo que sirva para calcular el Total a pagar por consumo de agua, donde el dato de entrada son los M3 de agua consumidos, Tomar en cuenta que se cobra escalonada de la Siguiente manera:\n",
        "\n",
        "Rango1: 0 al 4 M3 $50 x facturación sin importar cuánto consumió en este rango\n",
        "\n",
        "Rango2: 5 a 15 M3 $8.00 x M3\n",
        "\n",
        "Rango3: 16 a 50 M3 $10.00 x M3\n",
        "\n",
        "Rango4: 51 M3 en adelante $11.00 x M3\n",
        "\n",
        "Nota: Desplegar SubTotal, Iva(16%), y Total a pagar.\n",
        "\n"
      ],
      "metadata": {
        "id": "GjjbJ4bJ92Io"
      }
    },
    {
      "cell_type": "code",
      "source": [
        "m3_consumidos = float(input(\"ingrese la cantidad de m3 consumidos: \"))\n",
        "\n",
        "tarifa_rango1 = 50.00\n",
        "tarifa_rango2 = 8.00\n",
        "tarifa_rango3 = 10.00\n",
        "tarifa_rango4 = 11.00\n",
        "\n",
        "subtotal = 0\n",
        "\n",
        "if m3_consumidos <= 4:\n",
        "    subtotal = tarifa_rango1\n",
        "elif m3_consumidos <= 15:\n",
        "    subtotal = tarifa_rango1 + (m3_consumidos - 4) * tarifa_rango2\n",
        "elif m3_consumidos <= 50:\n",
        "    subtotal = tarifa_rango1 + 11 * tarifa_rango2 + (m3_consumidos - 15) * tarifa_rango3\n",
        "else:\n",
        "    subtotal = tarifa_rango1 + 11 * tarifa_rango2 + 35 * tarifa_rango3 + (m3_consumidos - 50) * tarifa_rango4\n",
        "\n",
        "\n",
        "iva = subtotal * 0.16\n",
        "\n",
        "\n",
        "total = subtotal + iva\n",
        "\n",
        "\n",
        "print(\"El Subtotal a pagar es: $\", subtotal)\n",
        "print(\"El IVA correspondiente al consumo es: $\",iva)\n",
        "print(\"El Total a pagar incluyendo impuestos es: $\", total)\n"
      ],
      "metadata": {
        "id": "Js4jSSIw93dU",
        "colab": {
          "base_uri": "https://localhost:8080/"
        },
        "outputId": "47942c8a-938e-4d89-cf22-b0359687cda9"
      },
      "execution_count": 7,
      "outputs": [
        {
          "output_type": "stream",
          "name": "stdout",
          "text": [
            "ingrese la cantidad de m3 consumidos: 50\n",
            "El Subtotal a pagar es: $ 488.0\n",
            "El IVA correspondiente al consumo es: $ 78.08\n",
            "El Total a pagar incluyendo impuestos es: $ 566.08\n"
          ]
        }
      ]
    },
    {
      "cell_type": "markdown",
      "source": [
        "5- En la materia de Metodología de la programación se aplican 5 exámenes, calcular el promedio final de la materia donde la calificación menor de los exámenes se anula y el promedio se calcula en base a 4 exámenes.\n",
        "\n",
        "Desplegar el promedio final."
      ],
      "metadata": {
        "id": "1uQ59F2294ak"
      }
    },
    {
      "cell_type": "code",
      "source": [
        "examen_1 = float(input(\"ingrese la calificacion del examen 1: \"))\n",
        "examen_2 = float(input(\"ingrese la calificacion del examen 2: \"))\n",
        "examen_3 = float(input(\"ingrese la calificacion del examen 3: \"))\n",
        "examen_4 = float(input(\"ingrese la calificacion del examen 4: \"))\n",
        "examen_5 = float(input(\"ingrese la calificacion del examen 5: \"))\n",
        "\n",
        "calif_minima = min(examen_1, examen_2, examen_3, examen_4, examen_5)\n",
        "prom_final = (examen_1 + examen_2 + examen_3 + examen_4 + examen_5 - calif_minima) /4\n",
        "\n",
        "print(\"promedio final es: \", prom_final)\n"
      ],
      "metadata": {
        "id": "LIVMSRwL-N3O",
        "colab": {
          "base_uri": "https://localhost:8080/"
        },
        "outputId": "137db2f4-5a75-4ba0-97e0-5ef500dd9f8d"
      },
      "execution_count": 10,
      "outputs": [
        {
          "output_type": "stream",
          "name": "stdout",
          "text": [
            "ingrese la calificacion del examen 1: 45\n",
            "ingrese la calificacion del examen 2: 60\n",
            "ingrese la calificacion del examen 3: 100\n",
            "ingrese la calificacion del examen 4: 90\n",
            "ingrese la calificacion del examen 5: 50\n",
            "promedio final es:  75.0\n"
          ]
        }
      ]
    },
    {
      "cell_type": "markdown",
      "source": [
        "6.- Algoritmo que sirva para el juego del CHINCHAMPU (Piedra, Papel, Tijera) para 1 jugador y la computadora, (usar condición anidada)\n",
        "\n"
      ],
      "metadata": {
        "id": "KETXZUY0-OZp"
      }
    },
    {
      "cell_type": "code",
      "source": [
        "import random\n",
        "jugador = input(\"Elige Piedra, Papel o Tijera: \").lower()\n",
        "opciones = [\"piedra\", \"papel\", \"tijera\"]\n",
        "computadora = random.choice(opciones)\n",
        "print(\"La computadora eligió:\", computadora)\n",
        "\n",
        "if jugador == computadora:\n",
        "    print(\"Es un empate.\")\n",
        "elif jugador == \"piedra\":\n",
        "    if computadora == \"tijera\":\n",
        "        print(\"¡Ganaste! La piedra vence a la tijera.\")\n",
        "    else:\n",
        "        print(\"¡Perdiste! El papel vence a la piedra.\")\n",
        "elif jugador == \"papel\":\n",
        "    if computadora == \"piedra\":\n",
        "        print(\"¡Ganaste! El papel vence a la piedra.\")\n",
        "    else:\n",
        "        print(\"¡Perdiste! La tijera vence al papel.\")\n",
        "elif jugador == \"tijera\":\n",
        "    if computadora == \"papel\":\n",
        "        print(\"¡Ganaste! La tijera vence al papel.\")\n",
        "    else:\n",
        "        print(\"¡Perdiste! La piedra vence a la tijera.\")\n",
        "else:\n",
        "    print(\"Entrada no válida. Por favor, elige Piedra, Papel o Tijera.\")"
      ],
      "metadata": {
        "id": "v7JB0r90-Rql",
        "colab": {
          "base_uri": "https://localhost:8080/"
        },
        "outputId": "42416b2a-783b-4cd7-853c-ceb7380a6b2d"
      },
      "execution_count": 12,
      "outputs": [
        {
          "output_type": "stream",
          "name": "stdout",
          "text": [
            "Elige Piedra, Papel o Tijera: tijera\n",
            "La computadora eligió: papel\n",
            "¡Ganaste! La tijera vence al papel.\n"
          ]
        }
      ]
    },
    {
      "cell_type": "markdown",
      "source": [
        "7.- Algoritmo que sirva para el juego del CHINCHAMPU (Piedra, Papel, Tijera) para 1 jugador y la computadora, (usar selección múltiple)"
      ],
      "metadata": {
        "id": "WBYq0dmt-SGE"
      }
    },
    {
      "cell_type": "code",
      "source": [],
      "metadata": {
        "id": "PoZlwUoD-ULs"
      },
      "execution_count": null,
      "outputs": []
    },
    {
      "cell_type": "markdown",
      "source": [
        "8.- Una tienda de electrónica ofrece descuentos a sus clientes, dependiendo del tipo de producto que compren. Si el cliente compra una computadora, tiene un descuento del 5% en el precio de la computadora y un 10% de descuento en una impresora si la compra junto con la computadora. Si el cliente compra una televisión, tiene un descuento del 7% en el precio de la televisión y un 15% de descuento en una barra de sonido si la compra junto con la televisión. Si el cliente compra una consola de videojuegos, tiene un descuento del 10% en el precio de la consola y un 20% de descuento en un juego si lo compra junto con la consola. Escribe un programa que calcule el precio a pagar por un cliente, tomando en cuenta los descuentos correspondientes."
      ],
      "metadata": {
        "id": "rx0B0TaX-U3A"
      }
    },
    {
      "cell_type": "code",
      "source": [
        "producto = input(\"ingresa el tipo de producto (computadora, television, impresora o consola)\")\n",
        "precio_producto = 0\n",
        "descuento_producto = 0\n",
        "\n",
        "if producto == \"computadora\":\n",
        "  precio_producto = float(input(\"ingrese el precio de la computadora\"))\n",
        "  descuento_producto = 0.05 * precio_producto\n",
        "  precio_impresora = float(input(\"ingrese el precio de la impresora(si compra una)\"))\n",
        "  if precio_impresora >0:\n",
        "    descuento_impresora = 0.10 * precio_impresora\n",
        "    producto += precio_impresora - descuento_impresora\n",
        "elif producto == \"television\":\n",
        "  precio_producto = float(input(\"ingrese el precio de la television\"))\n",
        "  descuento_producto = 0.07 * precio_producto\n",
        "  precio_sonido = float(input(\"ingrese el precio de la barra de sonido\"))\n",
        "  if precio_sonido > 0:\n",
        "    descuento_sonido = 0.15 * precio_sonido\n",
        "  precio_producto += precio_sonido - descuento_sonido\n",
        "elif producto == \"consola\":\n",
        "  precio_producto = float(input(\"ingrese el precio de la consola\"))\n",
        "  descuento_producto = 0.10 * precio_producto\n",
        "  precio_juego = float(input(\"ingrese el precio del juego\"))\n",
        "  if precio_juego > 0:\n",
        "    descuento_juego = 0.20 * precio_juego\n",
        "    precio_producto += precio_juego - descuento_juego\n",
        "else:\n",
        "  print(\"error con el producto\")\n",
        "\n",
        "precio_total = precio_producto - descuento_producto\n",
        "\n",
        "print(f\"total: \", precio_total)"
      ],
      "metadata": {
        "id": "27daLxYJ-YOU",
        "colab": {
          "base_uri": "https://localhost:8080/"
        },
        "outputId": "6ce35487-5173-4ee6-8de2-2a1025511d4c"
      },
      "execution_count": 16,
      "outputs": [
        {
          "output_type": "stream",
          "name": "stdout",
          "text": [
            "ingresa el tipo de producto (computadora, television, impresora o consola)consola\n",
            "ingrese el precio de la consola3000\n",
            "ingrese el precio del juego500\n",
            "total:  3100.0\n"
          ]
        }
      ]
    },
    {
      "cell_type": "markdown",
      "source": [
        "9.- En una tienda de ropa, los precios de los productos cambian dependiendo de la temporada. Durante la temporada de verano, todos los productos tienen un descuento del 20%. Durante la temporada de invierno, los productos con etiqueta roja tienen un descuento del 30% y los productos con etiqueta verde tienen un descuento del 15%. Durante la temporada de primavera y otoño, los productos con etiqueta amarilla tienen un descuento del 10%. Escribe un programa que calcule el precio a pagar por un cliente, tomando en cuenta los descuentos correspondientes.\n",
        "\n"
      ],
      "metadata": {
        "id": "ct7G549m-Ywx"
      }
    },
    {
      "cell_type": "code",
      "source": [
        "temporada = input(\"ingresa la temporada (verano, invierno, primavera u otono)\").lower()\n",
        "etiqueta = input(\"ingresa el tipo de etiqueta del producto (roja, verde, amarilla o ninguna)\").lower()\n",
        "precio_producto = float(input(\"ingrese el precio del producto: \"))\n",
        "descuento = 0\n",
        "if temporada == \"verano\":\n",
        "  descuento = 0.20 * precio_producto\n",
        "elif temporada == \"invierno\":\n",
        "  if etiqueta == \"roja\":\n",
        "    descuento = 0.30 *precio_producto\n",
        "  elif etiqueta == \"verde\":\n",
        "    descuento = 0.15 * precio_producto\n",
        "elif temporada == \"primavera\"or temporada == \"otono\":\n",
        "  if etiqueta == \"amarilla\":\n",
        "    descuento = 0.10 * precio_producto\n",
        "precio_total = precio_producto - descuento\n",
        "print(f\"total: \", precio_total)"
      ],
      "metadata": {
        "id": "YSxBJhah-bDt",
        "colab": {
          "base_uri": "https://localhost:8080/"
        },
        "outputId": "e861f38f-9c3e-479d-e494-a4f134cd02f4"
      },
      "execution_count": 18,
      "outputs": [
        {
          "output_type": "stream",
          "name": "stdout",
          "text": [
            "ingresa la temporada (verano, invierno, primavera u otono)verano\n",
            "ingresa el tipo de etiqueta del producto (roja, verde, amarilla o ninguna)amarilla\n",
            "ingrese el precio del producto: 500\n",
            "total:  400.0\n"
          ]
        }
      ]
    },
    {
      "cell_type": "markdown",
      "source": [
        "10.- Un restaurante ofrece descuentos a sus clientes, dependiendo del día de la semana y del tipo de menú que pidan. Los lunes, los clientes que pidan el menú del día tienen un descuento del 10%. Los martes, los clientes que pidan el menú infantil tienen un descuento del 20%. Los miércoles, los clientes que pidan el menú vegetariano tienen un descuento del 15%. Los jueves, los clientes que pidan el menú del chef tienen un descuento del 5%. Los viernes, los clientes que pidan el menú del día tienen un descuento del 5%. Los sábados y domingos no hay descuentos. Escribe un programa que calcule el precio a pagar por un cliente, tomando en cuenta los descuentos correspondientes.\n",
        "\n"
      ],
      "metadata": {
        "id": "RBtkX5K_-bch"
      }
    },
    {
      "cell_type": "code",
      "source": [
        "dia_semana = input(\"ingrese el dia de la semana: \")\n",
        "tipo_menu = input(\"ingrese el tipo de menu: \")\n",
        "precio_menu = float(input(\"ingrese el precio del menu: \"))\n",
        "descuento = 0\n",
        "if dia_semana == \"lunes\" and tipo_menu == \"del dia\":\n",
        "  descuento = 0.10 * precio_menu\n",
        "elif dia_semana == \"martes\" and tipo_menu == \"infantil\":\n",
        "  descuento = 0.20 * precio_menu\n",
        "elif dia_semana == \"miercoles\" and tipo_menu == \"vegetariano\":\n",
        "  descuento = 0.15 * precio_menu\n",
        "elif dia_semana == \"jueves\" and tipo_menu == \"chef\":\n",
        "  descuento = 0.05 * precio_menu\n",
        "elif dia_semana == \"viernes\" and tipo_menu == \"del dia\":\n",
        "  descuento = 0.05 * precio_menu\n",
        "precio_total = precio_menu - descuento\n",
        "\n",
        "print(\"su total fue de: \", precio_total)"
      ],
      "metadata": {
        "id": "IHa2eC2y-eOM",
        "colab": {
          "base_uri": "https://localhost:8080/"
        },
        "outputId": "e990d4a1-0772-40ea-e1ef-061d53051ccf"
      },
      "execution_count": 19,
      "outputs": [
        {
          "output_type": "stream",
          "name": "stdout",
          "text": [
            "ingrese el dia de la semana: viernes\n",
            "ingrese el tipo de menu: del dia\n",
            "ingrese el precio del menu: 200\n",
            "su total fue de:  190.0\n"
          ]
        }
      ]
    }
  ]
}