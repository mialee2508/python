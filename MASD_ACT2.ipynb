{
  "cells": [
    {
      "cell_type": "markdown",
      "metadata": {
        "id": "view-in-github",
        "colab_type": "text"
      },
      "source": [
        "<a href=\"https://colab.research.google.com/github/mialee2508/python/blob/main/MASD_ACT2.ipynb\" target=\"_parent\"><img src=\"https://colab.research.google.com/assets/colab-badge.svg\" alt=\"Open In Colab\"/></a>"
      ]
    },
    {
      "cell_type": "markdown",
      "metadata": {
        "id": "mv1EwnHGjnAA"
      },
      "source": [
        "**ACTIVIDAD 2**\n",
        "\n",
        "**FECHA: 25 DE AGOSTO 2023**\n",
        "\n",
        "**MICHELLE A. SANCHEZ DOMINGUEZ**"
      ]
    },
    {
      "cell_type": "markdown",
      "metadata": {
        "id": "iCZVcPTZjA2P"
      },
      "source": [
        "EJERCICIO 1. Programa en Python que lea 2 números enteros, usar una condición y analizar los dos números y desplegar cual de los números es el mayor."
      ]
    },
    {
      "cell_type": "code",
      "execution_count": 10,
      "metadata": {
        "colab": {
          "base_uri": "https://localhost:8080/"
        },
        "id": "Y9LBdr75jHIN",
        "outputId": "69fa3f9e-48f3-463e-e200-69f3a56a055c"
      },
      "outputs": [
        {
          "output_type": "stream",
          "name": "stdout",
          "text": [
            "n2 es mayor\n"
          ]
        }
      ],
      "source": [
        "n1=8\n",
        "n2=15\n",
        "if n2 > n1:\n",
        "  print (\"n2 es mayor\")\n"
      ]
    },
    {
      "cell_type": "markdown",
      "metadata": {
        "id": "0vlRx08QkVgA"
      },
      "source": [
        "EJERCICIO 2. Programa en PythonAlgoritmo que lea 4 calificaciones de un alumno, calcular y desplegar el promedio acompañado de la leyenda \"APROBADO\" o \"REPROBADO\""
      ]
    },
    {
      "cell_type": "code",
      "execution_count": 9,
      "metadata": {
        "colab": {
          "base_uri": "https://localhost:8080/"
        },
        "id": "Ke1MNWOskj9z",
        "outputId": "6cdd2586-d04c-42dc-f03d-d7a6ac409174"
      },
      "outputs": [
        {
          "output_type": "stream",
          "name": "stdout",
          "text": [
            "Ingrese la calif 1: 40\n",
            "Ingrese la calif 2: 60\n",
            "Ingrese la calif 3: 70\n",
            "Ingrese la calif 4: 80\n",
            "El promedio es: 62.5\n",
            "El alumno está: APROBADO\n"
          ]
        }
      ],
      "source": [
        "calif1 = float(input(\"Ingrese la calif 1: \"))\n",
        "calif2 = float(input(\"Ingrese la calif 2: \"))\n",
        "calif3 = float(input(\"Ingrese la calif 3: \"))\n",
        "calif4 = float(input(\"Ingrese la calif 4: \"))\n",
        "\n",
        "promedio = (calif1 + calif2 + calif3 + calif4) / 4\n",
        "\n",
        "promedio_aprobado = 60\n",
        "\n",
        "if promedio >= promedio_aprobado:\n",
        "    resultado = \"APROBADO\"\n",
        "if promedio <= promedio_aprobado:\n",
        "    resultado = \"REPROBADO\"\n",
        "\n",
        "print(\"El promedio es:\", promedio)\n",
        "print(\"El alumno está:\", resultado)\n"
      ]
    },
    {
      "cell_type": "markdown",
      "metadata": {
        "id": "f8XT-aXQnaWS"
      },
      "source": [
        "EJERCICIO 3. Programa en PythonAlgoritmo que a través de opciones (1.- HOMBRE 2.- MUJER ) preguntar al usuario cual es su sexo y desplegar la leyenda “HOMBRE ”, “MUJER”"
      ]
    },
    {
      "cell_type": "code",
      "execution_count": 6,
      "metadata": {
        "colab": {
          "base_uri": "https://localhost:8080/"
        },
        "id": "dBZQfBMUn9ph",
        "outputId": "c749d98a-784f-4f98-bce4-acdd2e5350de"
      },
      "outputs": [
        {
          "output_type": "stream",
          "name": "stdout",
          "text": [
            "¿cual es tu sexo?:\n",
            "1. Hombre\n",
            "2. Mujer\n",
            "escoge la opcion: 2\n",
            "su sexo es Mujer\n"
          ]
        }
      ],
      "source": [
        "print(\"¿cual es tu sexo?:\")\n",
        "print(\"1. Hombre\")\n",
        "print(\"2. Mujer\")\n",
        "opcion = int(input(\"escoge la opcion: \"))\n",
        "if opcion == 1:\n",
        "  sexo = \"Hombre\"\n",
        "if opcion == 2:\n",
        "  sexo = \"Mujer\"\n",
        "\n",
        "print (f\"su sexo es\", sexo)"
      ]
    },
    {
      "cell_type": "markdown",
      "metadata": {
        "id": "Qk8UMxOfqgEZ"
      },
      "source": [
        "EJERCICIO 4. Programa en Python que lea un número entero, y desplegar si el número es “PAR” o “IMPAR”\n",
        "\n"
      ]
    },
    {
      "cell_type": "code",
      "execution_count": 7,
      "metadata": {
        "colab": {
          "base_uri": "https://localhost:8080/"
        },
        "id": "HJu_t1EIqwlM",
        "outputId": "2846018c-515f-4141-e0ad-77d3d4f54e9d"
      },
      "outputs": [
        {
          "output_type": "stream",
          "name": "stdout",
          "text": [
            "ingresa un numero: 2\n",
            "el numero 2 es:  par\n"
          ]
        }
      ],
      "source": [
        "num = int(input(\"ingresa un numero: \"))\n",
        "if num % 2 == 0:\n",
        "  respuesta = \"par\"\n",
        "if num % 2 != 0:\n",
        "  respuesta = \"impar\"\n",
        "\n",
        "\n",
        "print(\"el numero\", num, \"es: \", respuesta)"
      ]
    },
    {
      "cell_type": "markdown",
      "metadata": {
        "id": "-6lSsnEBsUuK"
      },
      "source": [
        "EJERCICIO 5. Programa en Python que lea 2 números enteros, usar una condición y analizar los dos números y desplegar cual de los números es el mayor."
      ]
    },
    {
      "cell_type": "code",
      "execution_count": null,
      "metadata": {
        "colab": {
          "base_uri": "https://localhost:8080/"
        },
        "id": "W_KrCt1csvxR",
        "outputId": "b90d7bd8-d24c-40ff-9620-6be06f46e192"
      },
      "outputs": [
        {
          "name": "stdout",
          "output_type": "stream",
          "text": [
            "ingresa un numero entero: 2\n",
            "ingresa un numero entero: 3\n",
            "los dos numeros son iguales:3\n"
          ]
        }
      ],
      "source": [
        "num1 = int(input(\"ingresa un numero entero: \"))\n",
        "num2 = int(input(\"ingresa un numero entero: \"))\n",
        "if num1 > num2:\n",
        "  mayor = num1\n",
        "  resultado = \"el primer numero es mayor\"\n",
        "if num2 > num1:\n",
        "  mayor = num2\n",
        "  resultado = \"el segundo numero es mayor\"\n",
        "print (respuesta + \":\" + str(mayor))"
      ]
    },
    {
      "cell_type": "markdown",
      "metadata": {
        "id": "yN6l_UnkyUTt"
      },
      "source": [
        "EJERCICIO 6. Programa en Python que lea 4 calificaciones de un alumno, calcular y desplegar el promedio acompañado de la leyenda APROBADO o REPROBADO"
      ]
    },
    {
      "cell_type": "code",
      "execution_count": 2,
      "metadata": {
        "colab": {
          "base_uri": "https://localhost:8080/"
        },
        "id": "dQR9H1olzZ3d",
        "outputId": "28d3cdd8-67f1-4f66-b2a3-b3a07b89d205"
      },
      "outputs": [
        {
          "output_type": "stream",
          "name": "stdout",
          "text": [
            "Ingrese la calif 1: 40\n",
            "Ingrese la calif 2: 50\n",
            "Ingrese la calif 3: 60\n",
            "Ingrese la calif 4: 70\n",
            "El promedio es: 55.0\n",
            "El alumno está: REPROBADO\n"
          ]
        }
      ],
      "source": [
        "calif1 = float(input(\"Ingrese la calif 1: \"))\n",
        "calif2 = float(input(\"Ingrese la calif 2: \"))\n",
        "calif3 = float(input(\"Ingrese la calif 3: \"))\n",
        "calif4 = float(input(\"Ingrese la calif 4: \"))\n",
        "\n",
        "promedio = (calif1 + calif2 + calif3 + calif4) / 4\n",
        "\n",
        "promedio_aprobado = 60\n",
        "\n",
        "if promedio >= promedio_aprobado:\n",
        "    resultado = \"APROBADO\"\n",
        "else:\n",
        "    resultado = \"REPROBADO\"\n",
        "\n",
        "print(\"El promedio es:\", promedio)\n",
        "print(\"El alumno está:\", resultado)\n",
        "\n"
      ]
    },
    {
      "cell_type": "markdown",
      "metadata": {
        "id": "Kt4SJdy9zaQ5"
      },
      "source": [
        "EJERCICIO 7. Programa en Python que a través de opciones (1.- HOMBRE 2.- MUJER ) preguntar al usuario cual es su sexo y desplegar la leyenda “HOMBRE ”, “MUJER”"
      ]
    },
    {
      "cell_type": "code",
      "execution_count": 4,
      "metadata": {
        "colab": {
          "base_uri": "https://localhost:8080/"
        },
        "id": "_YZUdbOOzhA1",
        "outputId": "61fd05c3-9a76-413f-b80b-0c221cc19a70"
      },
      "outputs": [
        {
          "output_type": "stream",
          "name": "stdout",
          "text": [
            "¿cual es tu sexo?:\n",
            "1. Hombre\n",
            "2. Mujer\n",
            "escoge la opcion: 2\n",
            "su sexo es Mujer\n"
          ]
        }
      ],
      "source": [
        "print(\"¿cual es tu sexo?:\")\n",
        "print(\"1. Hombre\")\n",
        "print(\"2. Mujer\")\n",
        "opcion = int(input(\"escoge la opcion: \"))\n",
        "if opcion == 1:\n",
        "  sexo = \"Hombre\"\n",
        "if opcion == 2:\n",
        "  sexo = \"Mujer\"\n",
        "else:\n",
        "  sexo = \"invalido\"\n",
        "\n",
        "print (f\"su sexo es\", sexo)\n"
      ]
    },
    {
      "cell_type": "markdown",
      "metadata": {
        "id": "MVBii3QI1HEV"
      },
      "source": [
        "EJERCICIO 8. Programa en Python que lea un número entero, y desplegar si el número es “PAR” o “IMPAR” NOTA: EJERCICIOS PARA SER RESUELTOS USANDO EXCLUSIVAMENTE CONDICIONES COMPUESTO\n",
        "\n"
      ]
    },
    {
      "cell_type": "code",
      "execution_count": 12,
      "metadata": {
        "id": "prDbAMjS1OC4",
        "colab": {
          "base_uri": "https://localhost:8080/"
        },
        "outputId": "02fe8e50-b823-4d50-c053-451a9d1966ca"
      },
      "outputs": [
        {
          "output_type": "stream",
          "name": "stdout",
          "text": [
            "ingresa un numero: 5\n",
            "el numero 5 es:  impar\n"
          ]
        }
      ],
      "source": [
        "num = int(input(\"ingresa un numero: \"))\n",
        "if num % 2 == 0:\n",
        "  respuesta = \"par\"\n",
        "else:\n",
        "  respuesta = \"impar\"\n",
        "print(\"el numero\", num, \"es: \", respuesta)"
      ]
    }
  ],
  "metadata": {
    "colab": {
      "provenance": [],
      "authorship_tag": "ABX9TyPFKiNvx1bX3ORgwshgmfoi",
      "include_colab_link": true
    },
    "kernelspec": {
      "display_name": "Python 3",
      "name": "python3"
    },
    "language_info": {
      "name": "python"
    }
  },
  "nbformat": 4,
  "nbformat_minor": 0
}