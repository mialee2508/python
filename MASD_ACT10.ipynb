{
  "nbformat": 4,
  "nbformat_minor": 0,
  "metadata": {
    "colab": {
      "provenance": [],
      "authorship_tag": "ABX9TyN71IUBA7Oa2VuEN+92qy3Y",
      "include_colab_link": true
    },
    "kernelspec": {
      "name": "python3",
      "display_name": "Python 3"
    },
    "language_info": {
      "name": "python"
    }
  },
  "cells": [
    {
      "cell_type": "markdown",
      "metadata": {
        "id": "view-in-github",
        "colab_type": "text"
      },
      "source": [
        "<a href=\"https://colab.research.google.com/github/mialee2508/python/blob/main/MASD_ACT10.ipynb\" target=\"_parent\"><img src=\"https://colab.research.google.com/assets/colab-badge.svg\" alt=\"Open In Colab\"/></a>"
      ]
    },
    {
      "cell_type": "markdown",
      "source": [
        "**Actividad 10**\n",
        "\n",
        "**Fecha: 29 de Octubre 2023**\n",
        "\n",
        "**Michelle A. Sanchez Dominguez**\n",
        "\n",
        "**REALIZA UN PROGRAMA QUE UTILICE UNA LISTA DE DICCIONARIOS**"
      ],
      "metadata": {
        "id": "NzVp0QEXk-Ls"
      }
    },
    {
      "cell_type": "code",
      "source": [
        "pip install pandas"
      ],
      "metadata": {
        "colab": {
          "base_uri": "https://localhost:8080/"
        },
        "id": "NSMUMkh1novx",
        "outputId": "81892ce6-cc86-4c9b-aae7-a93c0dd9d876"
      },
      "execution_count": null,
      "outputs": [
        {
          "output_type": "stream",
          "name": "stdout",
          "text": [
            "Requirement already satisfied: pandas in /usr/local/lib/python3.10/dist-packages (1.5.3)\n",
            "Requirement already satisfied: python-dateutil>=2.8.1 in /usr/local/lib/python3.10/dist-packages (from pandas) (2.8.2)\n",
            "Requirement already satisfied: pytz>=2020.1 in /usr/local/lib/python3.10/dist-packages (from pandas) (2023.3.post1)\n",
            "Requirement already satisfied: numpy>=1.21.0 in /usr/local/lib/python3.10/dist-packages (from pandas) (1.23.5)\n",
            "Requirement already satisfied: six>=1.5 in /usr/local/lib/python3.10/dist-packages (from python-dateutil>=2.8.1->pandas) (1.16.0)\n"
          ]
        }
      ]
    },
    {
      "cell_type": "code",
      "source": [
        "import pandas as pd"
      ],
      "metadata": {
        "id": "FlDTEEJinFMZ"
      },
      "execution_count": null,
      "outputs": []
    },
    {
      "cell_type": "code",
      "source": [
        "trabajadores = []"
      ],
      "metadata": {
        "id": "dl-OhXqum_W7"
      },
      "execution_count": null,
      "outputs": []
    },
    {
      "cell_type": "code",
      "source": [
        "def agregar_trabajador_automatico():\n",
        "    global trabajadores\n",
        "\n",
        "    nuevo_trabajador = {\n",
        "        'ID': len(trabajadores) + 1,\n",
        "        'nombre': 'nombre',\n",
        "        'apellido': 'apellido',\n",
        "        'cargo': 'cargo',\n",
        "        'salario': 0\n",
        "    }\n",
        "    trabajadores.append(nuevo_trabajador)\n",
        "    print(\"trabajador agregado automaticamente\")"
      ],
      "metadata": {
        "id": "DgCJi2e7m_LF"
      },
      "execution_count": null,
      "outputs": []
    },
    {
      "cell_type": "code",
      "source": [
        "def agregar_trabajador_manual():\n",
        "    global trabajadores\n",
        "\n",
        "    nuevo_trabajador = {\n",
        "        'ID': len(trabajadores) + 1,\n",
        "        'nombre': input(\"nombre: \"),\n",
        "        'apellido': input(\"apellido: \"),\n",
        "        'cargo': input(\"cargo: \"),\n",
        "        'salario': float(input(\"salario: \"))\n",
        "    }\n",
        "    trabajadores.append(nuevo_trabajador)\n",
        "    print(\"Trabajador agregado manualmente.\")\n"
      ],
      "metadata": {
        "id": "42DTVfEtmq2b"
      },
      "execution_count": null,
      "outputs": []
    },
    {
      "cell_type": "code",
      "source": [
        "def imprimir_lista():\n",
        "    global trabajadores\n",
        "    if not trabajadores:\n",
        "        print(\"lista vacia\")\n",
        "        return\n",
        "\n",
        "    df = pd.DataFrame(trabajadores)\n",
        "    print(df)"
      ],
      "metadata": {
        "id": "f0vtLgU5mqyP"
      },
      "execution_count": null,
      "outputs": []
    },
    {
      "cell_type": "code",
      "source": [
        "def buscar_por_id(id_buscar):\n",
        "    global trabajadores\n",
        "    for trabajador in trabajadores:\n",
        "        if trabajador['ID'] == id_buscar:\n",
        "            return trabajador\n",
        "    return None"
      ],
      "metadata": {
        "id": "GcWVyB-omqt5"
      },
      "execution_count": null,
      "outputs": []
    },
    {
      "cell_type": "code",
      "source": [
        "def buscar_trabajador():\n",
        "    id_buscar = int(input(\"ID del trabajador a buscar: \"))\n",
        "    trabajador = buscar_por_id(id_buscar)\n",
        "    if trabajador:\n",
        "        print(\"Se ha encontradoel trabajador:\")\n",
        "        print(pd.DataFrame([trabajador]))\n",
        "    else:\n",
        "        print(\"error, favor de ingresar un ID valido.\")"
      ],
      "metadata": {
        "id": "m1wYSMXqmqpW"
      },
      "execution_count": null,
      "outputs": []
    },
    {
      "cell_type": "code",
      "source": [
        "def ordenar_lista():\n",
        "    global trabajadores\n",
        "    if not trabajadores:\n",
        "        print(\"lista vacia\")\n",
        "        return\n",
        "\n",
        "    if len(trabajadores) <= 1:\n",
        "        print(\"la lista debe tener mas de dos trabajadores para poder ordenar\")\n",
        "        return\n",
        "\n",
        "    trabajadores.sort(key=lambda x: x['ID'])\n",
        "    print(\"lista ordenada por ID.\")"
      ],
      "metadata": {
        "id": "qMFY0wsimqh6"
      },
      "execution_count": null,
      "outputs": []
    },
    {
      "cell_type": "code",
      "source": [
        "def eliminar_trabajador(id_eliminar):\n",
        "    global trabajadores\n",
        "    trabajador = buscar_por_id(id_eliminar)\n",
        "    if trabajador:\n",
        "        trabajadores.remove(trabajador)\n",
        "        print(\"el trabajador ha sido eliminado\")\n",
        "    else:\n",
        "        print(\"error, favor de ingresar un ID valido.\")"
      ],
      "metadata": {
        "id": "AXz99XAEmqYD"
      },
      "execution_count": null,
      "outputs": []
    },
    {
      "cell_type": "code",
      "source": [
        "def borrar_toda_la_lista():\n",
        "    global trabajadores\n",
        "    if not trabajadores:\n",
        "        print(\"lista vacia\")\n",
        "        return\n",
        "\n",
        "    confirmacion = input(\"deseas confirmar? S/N\")\n",
        "    if confirmacion.lower() == 's':\n",
        "        trabajadores = []\n",
        "        print(\"lista borrada\")\n",
        "    else:\n",
        "        print(\"cancelado\")"
      ],
      "metadata": {
        "id": "XIYATf5YmqLo"
      },
      "execution_count": null,
      "outputs": []
    },
    {
      "cell_type": "code",
      "source": [
        "while True:\n",
        "    print(\"\\nMENU\")\n",
        "    print(\"1.- Agregar (automático)\")\n",
        "    print(\"2.- Agregar (manual)\")\n",
        "    print(\"3.- Imprimir lista\")\n",
        "    print(\"4.- Buscar {ID}\")\n",
        "    print(\"5.- Ordenar\")\n",
        "    print(\"6.- Eliminar {ID}\")\n",
        "    print(\"7.- Borrar Toda la lista\")\n",
        "    print(\"0.- SALIR\")\n",
        "\n",
        "    opcion = input(\"elija una opción: \")\n",
        "\n",
        "    if opcion == \"1\":\n",
        "        agregar_trabajador_automatico()\n",
        "    elif opcion == \"2\":\n",
        "        agregar_trabajador_manual()\n",
        "    elif opcion == \"3\":\n",
        "        imprimir_lista()\n",
        "    elif opcion == \"4\":\n",
        "        buscar_trabajador()\n",
        "    elif opcion == \"5\":\n",
        "        ordenar_lista()\n",
        "    elif opcion == \"6\":\n",
        "        id_eliminar = int(input(\"ID del trabajador a eliminar: \"))\n",
        "        eliminar_trabajador(id_eliminar)\n",
        "    elif opcion == \"7\":\n",
        "        borrar_toda_la_lista()\n",
        "    elif opcion == \"0\":\n",
        "        break\n",
        "    else:\n",
        "        print(\"elija una opción válida.\")\n",
        "\n",
        "print(\"¡bye bye!\")\n"
      ],
      "metadata": {
        "colab": {
          "base_uri": "https://localhost:8080/"
        },
        "id": "QplMoAFfmcv2",
        "outputId": "de3fb50c-2339-4367-cec7-1954f34b9599"
      },
      "execution_count": null,
      "outputs": [
        {
          "output_type": "stream",
          "name": "stdout",
          "text": [
            "\n",
            "MENU\n",
            "1.- Agregar (automático)\n",
            "2.- Agregar (manual)\n",
            "3.- Imprimir lista\n",
            "4.- Buscar {ID}\n",
            "5.- Ordenar\n",
            "6.- Eliminar {ID}\n",
            "7.- Borrar Toda la lista\n",
            "0.- SALIR\n",
            "elija una opción: 1\n",
            "trabajador agregado automaticamente\n",
            "\n",
            "MENU\n",
            "1.- Agregar (automático)\n",
            "2.- Agregar (manual)\n",
            "3.- Imprimir lista\n",
            "4.- Buscar {ID}\n",
            "5.- Ordenar\n",
            "6.- Eliminar {ID}\n",
            "7.- Borrar Toda la lista\n",
            "0.- SALIR\n",
            "elija una opción: 2\n",
            "nombre: Michelle\n",
            "apellido: Sanchez\n",
            "cargo: jefe\n",
            "salario: 5000\n",
            "Trabajador agregado manualmente.\n",
            "\n",
            "MENU\n",
            "1.- Agregar (automático)\n",
            "2.- Agregar (manual)\n",
            "3.- Imprimir lista\n",
            "4.- Buscar {ID}\n",
            "5.- Ordenar\n",
            "6.- Eliminar {ID}\n",
            "7.- Borrar Toda la lista\n",
            "0.- SALIR\n",
            "elija una opción: 3\n",
            "   ID    nombre  apellido  cargo  salario\n",
            "0   1    nombre  apellido  cargo      0.0\n",
            "1   2  Michelle   Sanchez   jefe   5000.0\n",
            "\n",
            "MENU\n",
            "1.- Agregar (automático)\n",
            "2.- Agregar (manual)\n",
            "3.- Imprimir lista\n",
            "4.- Buscar {ID}\n",
            "5.- Ordenar\n",
            "6.- Eliminar {ID}\n",
            "7.- Borrar Toda la lista\n",
            "0.- SALIR\n",
            "elija una opción: 4\n",
            "ID del trabajador a buscar: 2\n",
            "Se ha encontradoel trabajador:\n",
            "   ID    nombre apellido cargo  salario\n",
            "0   2  Michelle  Sanchez  jefe   5000.0\n",
            "\n",
            "MENU\n",
            "1.- Agregar (automático)\n",
            "2.- Agregar (manual)\n",
            "3.- Imprimir lista\n",
            "4.- Buscar {ID}\n",
            "5.- Ordenar\n",
            "6.- Eliminar {ID}\n",
            "7.- Borrar Toda la lista\n",
            "0.- SALIR\n",
            "elija una opción: 5\n",
            "lista ordenada por ID.\n",
            "\n",
            "MENU\n",
            "1.- Agregar (automático)\n",
            "2.- Agregar (manual)\n",
            "3.- Imprimir lista\n",
            "4.- Buscar {ID}\n",
            "5.- Ordenar\n",
            "6.- Eliminar {ID}\n",
            "7.- Borrar Toda la lista\n",
            "0.- SALIR\n",
            "elija una opción: 6\n",
            "ID del trabajador a eliminar: 1\n",
            "el trabajador ha sido eliminado\n",
            "\n",
            "MENU\n",
            "1.- Agregar (automático)\n",
            "2.- Agregar (manual)\n",
            "3.- Imprimir lista\n",
            "4.- Buscar {ID}\n",
            "5.- Ordenar\n",
            "6.- Eliminar {ID}\n",
            "7.- Borrar Toda la lista\n",
            "0.- SALIR\n",
            "elija una opción: 7\n",
            "deseas confirmar? S/Ns\n",
            "lista borrada\n",
            "\n",
            "MENU\n",
            "1.- Agregar (automático)\n",
            "2.- Agregar (manual)\n",
            "3.- Imprimir lista\n",
            "4.- Buscar {ID}\n",
            "5.- Ordenar\n",
            "6.- Eliminar {ID}\n",
            "7.- Borrar Toda la lista\n",
            "0.- SALIR\n",
            "elija una opción: 0\n",
            "¡bye bye!\n"
          ]
        }
      ]
    }
  ]
}